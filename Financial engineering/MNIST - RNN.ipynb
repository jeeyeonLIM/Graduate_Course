{
 "cells": [
  {
   "cell_type": "markdown",
   "metadata": {
    "colab_type": "text",
    "id": "XA30gEkZ-nbA"
   },
   "source": [
    "# MNIST"
   ]
  },
  {
   "cell_type": "code",
   "execution_count": 0,
   "metadata": {
    "colab": {},
    "colab_type": "code",
    "id": "Xkbz970E-nbL"
   },
   "outputs": [],
   "source": [
    "### MNIST 설명\n",
    "\n",
    "# mnist.train : 55,000개 \n",
    "# mnist.test  : 10,000개\n",
    "# mnist.validation : 5,000개\n",
    "\n",
    "## 데이터 : 이미지(xs) & 라벨(ys) 로 구성\n",
    "# train 데이터 : mnist.train.images & mnist.train.labels 가지고\n",
    "# test 데이터  : mnist.test.images & mnist.test.labels 를 가진다\n",
    "\n",
    "# 각 이미지는 28 x 28 픽셀이고, 펼치면 784 개의 벡터가 됨\n",
    "# 만약 train data 는 [55000, 784] 형태 즉 [이미지, 픽셀]\n",
    "\n",
    "# 라벨을 one-hot 벡터로 바꾸기 \n",
    "#  ex) 라벨 3은 [0,0,0,1,0,0,0,0,0,0] \n",
    "# 즉 mnist.train.labels는 [55000,10] 이 됨 (숫자 9개여서)"
   ]
  },
  {
   "cell_type": "code",
   "execution_count": 0,
   "metadata": {
    "colab": {},
    "colab_type": "code",
    "id": "ZvyppW-b-nbd"
   },
   "outputs": [],
   "source": [
    "### softmax regression \n",
    "\n",
    "# 입력값을 지수화한 뒤 정규화 하는 과정\n",
    "    # 지수화 : 증거값을 하나 더 추가하면 어떤 가설의 가중치를 곱으로 증가 하는것\n",
    "    # 정규화\n",
    "\n",
    "# 소프트맥스는 0 ~ 1 사이 값이며 각 값을 모두 합하면 1이 됨 : 서로 다른 여러 항목 중 하나일 확률을 계산하고자 할 때 적합함\n",
    "\n",
    "# 1. 입력한데이터가 각 클래스에 속한다는 증거를 수치적으로 계산   \n",
    "    # 픽셀의 어두운 정도를 가중치해 합한다 (weighted sum)\n",
    "    # 픽셀이 진하다는 것이 특정 클래스에 속하지 않으면 - , 속하면 +\n",
    "    \n",
    "# 2. 계산한 값을 확률로 변환함\n"
   ]
  },
  {
   "cell_type": "code",
   "execution_count": 21,
   "metadata": {
    "colab": {
     "base_uri": "https://localhost:8080/",
     "height": 92
    },
    "colab_type": "code",
    "id": "ohFY-znn-nbo",
    "outputId": "dfc794f2-de4d-454a-b4b4-f9f3d80baca7"
   },
   "outputs": [
    {
     "name": "stdout",
     "output_type": "stream",
     "text": [
      "Extracting MNIST_data/train-images-idx3-ubyte.gz\n",
      "Extracting MNIST_data/train-labels-idx1-ubyte.gz\n",
      "Extracting MNIST_data/t10k-images-idx3-ubyte.gz\n",
      "Extracting MNIST_data/t10k-labels-idx1-ubyte.gz\n"
     ]
    }
   ],
   "source": [
    "# 필요한 패키지 다운로드 \n",
    "import tensorflow as tf\n",
    "import matplotlib.pyplot as plt\n",
    "from sklearn.utils import shuffle\n",
    "\n",
    "# 데이터 다운로드 \n",
    "from tensorflow.examples.tutorials.mnist import input_data\n",
    "mnist = input_data.read_data_sets(\"MNIST_data/\", one_hot=True)"
   ]
  },
  {
   "cell_type": "code",
   "execution_count": 22,
   "metadata": {
    "colab": {
     "base_uri": "https://localhost:8080/",
     "height": 2948
    },
    "colab_type": "code",
    "id": "ufROFz5LQs5s",
    "outputId": "de78e0e3-aa19-4132-9c10-ed489347c484"
   },
   "outputs": [
    {
     "data": {
      "text/plain": [
       "array([0.        , 0.        , 0.        , 0.        , 0.        ,\n",
       "       0.        , 0.        , 0.        , 0.        , 0.        ,\n",
       "       0.        , 0.        , 0.        , 0.        , 0.        ,\n",
       "       0.        , 0.        , 0.        , 0.        , 0.        ,\n",
       "       0.        , 0.        , 0.        , 0.        , 0.        ,\n",
       "       0.        , 0.        , 0.        , 0.        , 0.        ,\n",
       "       0.        , 0.        , 0.        , 0.        , 0.        ,\n",
       "       0.        , 0.        , 0.        , 0.        , 0.        ,\n",
       "       0.        , 0.        , 0.        , 0.        , 0.        ,\n",
       "       0.        , 0.        , 0.        , 0.        , 0.        ,\n",
       "       0.        , 0.        , 0.        , 0.        , 0.        ,\n",
       "       0.        , 0.        , 0.        , 0.        , 0.        ,\n",
       "       0.        , 0.        , 0.        , 0.        , 0.        ,\n",
       "       0.        , 0.        , 0.        , 0.        , 0.        ,\n",
       "       0.        , 0.        , 0.        , 0.        , 0.        ,\n",
       "       0.        , 0.        , 0.        , 0.        , 0.        ,\n",
       "       0.        , 0.        , 0.        , 0.        , 0.        ,\n",
       "       0.        , 0.        , 0.        , 0.        , 0.        ,\n",
       "       0.        , 0.        , 0.        , 0.        , 0.        ,\n",
       "       0.        , 0.        , 0.        , 0.        , 0.        ,\n",
       "       0.        , 0.        , 0.        , 0.        , 0.        ,\n",
       "       0.        , 0.        , 0.        , 0.        , 0.        ,\n",
       "       0.        , 0.        , 0.        , 0.        , 0.        ,\n",
       "       0.        , 0.        , 0.        , 0.        , 0.        ,\n",
       "       0.        , 0.        , 0.        , 0.        , 0.        ,\n",
       "       0.        , 0.        , 0.        , 0.        , 0.        ,\n",
       "       0.        , 0.        , 0.        , 0.        , 0.        ,\n",
       "       0.        , 0.        , 0.        , 0.        , 0.        ,\n",
       "       0.        , 0.        , 0.        , 0.        , 0.        ,\n",
       "       0.        , 0.        , 0.        , 0.        , 0.        ,\n",
       "       0.        , 0.        , 0.        , 0.12156864, 0.5176471 ,\n",
       "       0.9960785 , 0.9921569 , 0.9960785 , 0.8352942 , 0.32156864,\n",
       "       0.        , 0.        , 0.        , 0.        , 0.        ,\n",
       "       0.        , 0.        , 0.        , 0.        , 0.        ,\n",
       "       0.        , 0.        , 0.        , 0.        , 0.        ,\n",
       "       0.        , 0.        , 0.        , 0.        , 0.08235294,\n",
       "       0.5568628 , 0.91372555, 0.98823535, 0.9921569 , 0.98823535,\n",
       "       0.9921569 , 0.98823535, 0.8745099 , 0.07843138, 0.        ,\n",
       "       0.        , 0.        , 0.        , 0.        , 0.        ,\n",
       "       0.        , 0.        , 0.        , 0.        , 0.        ,\n",
       "       0.        , 0.        , 0.        , 0.        , 0.        ,\n",
       "       0.        , 0.48235297, 0.9960785 , 0.9921569 , 0.9960785 ,\n",
       "       0.9921569 , 0.87843144, 0.7960785 , 0.7960785 , 0.8745099 ,\n",
       "       1.        , 0.8352942 , 0.        , 0.        , 0.        ,\n",
       "       0.        , 0.        , 0.        , 0.        , 0.        ,\n",
       "       0.        , 0.        , 0.        , 0.        , 0.        ,\n",
       "       0.        , 0.        , 0.        , 0.        , 0.7960785 ,\n",
       "       0.9921569 , 0.98823535, 0.9921569 , 0.8313726 , 0.07843138,\n",
       "       0.        , 0.        , 0.2392157 , 0.9921569 , 0.98823535,\n",
       "       0.        , 0.        , 0.        , 0.        , 0.        ,\n",
       "       0.        , 0.        , 0.        , 0.        , 0.        ,\n",
       "       0.        , 0.        , 0.        , 0.        , 0.        ,\n",
       "       0.        , 0.16078432, 0.95294124, 0.87843144, 0.7960785 ,\n",
       "       0.7176471 , 0.16078432, 0.59607846, 0.11764707, 0.        ,\n",
       "       0.        , 1.        , 0.9921569 , 0.40000004, 0.        ,\n",
       "       0.        , 0.        , 0.        , 0.        , 0.        ,\n",
       "       0.        , 0.        , 0.        , 0.        , 0.        ,\n",
       "       0.        , 0.        , 0.        , 0.        , 0.        ,\n",
       "       0.15686275, 0.07843138, 0.        , 0.        , 0.40000004,\n",
       "       0.9921569 , 0.19607845, 0.        , 0.32156864, 0.9921569 ,\n",
       "       0.98823535, 0.07843138, 0.        , 0.        , 0.        ,\n",
       "       0.        , 0.        , 0.        , 0.        , 0.        ,\n",
       "       0.        , 0.        , 0.        , 0.        , 0.        ,\n",
       "       0.        , 0.        , 0.        , 0.        , 0.        ,\n",
       "       0.        , 0.        , 0.32156864, 0.83921576, 0.12156864,\n",
       "       0.4431373 , 0.91372555, 0.9960785 , 0.91372555, 0.        ,\n",
       "       0.        , 0.        , 0.        , 0.        , 0.        ,\n",
       "       0.        , 0.        , 0.        , 0.        , 0.        ,\n",
       "       0.        , 0.        , 0.        , 0.        , 0.        ,\n",
       "       0.        , 0.        , 0.24313727, 0.40000004, 0.32156864,\n",
       "       0.16078432, 0.9921569 , 0.909804  , 0.9921569 , 0.98823535,\n",
       "       0.91372555, 0.19607845, 0.        , 0.        , 0.        ,\n",
       "       0.        , 0.        , 0.        , 0.        , 0.        ,\n",
       "       0.        , 0.        , 0.        , 0.        , 0.        ,\n",
       "       0.        , 0.        , 0.        , 0.        , 0.        ,\n",
       "       0.59607846, 0.9921569 , 0.9960785 , 0.9921569 , 0.9960785 ,\n",
       "       0.9921569 , 0.9960785 , 0.91372555, 0.48235297, 0.        ,\n",
       "       0.        , 0.        , 0.        , 0.        , 0.        ,\n",
       "       0.        , 0.        , 0.        , 0.        , 0.        ,\n",
       "       0.        , 0.        , 0.        , 0.        , 0.        ,\n",
       "       0.        , 0.        , 0.        , 0.59607846, 0.98823535,\n",
       "       0.9921569 , 0.98823535, 0.9921569 , 0.98823535, 0.75294125,\n",
       "       0.19607845, 0.        , 0.        , 0.        , 0.        ,\n",
       "       0.        , 0.        , 0.        , 0.        , 0.        ,\n",
       "       0.        , 0.        , 0.        , 0.        , 0.        ,\n",
       "       0.        , 0.        , 0.        , 0.        , 0.        ,\n",
       "       0.        , 0.24313727, 0.7176471 , 0.7960785 , 0.95294124,\n",
       "       0.9960785 , 0.9921569 , 0.24313727, 0.        , 0.        ,\n",
       "       0.        , 0.        , 0.        , 0.        , 0.        ,\n",
       "       0.        , 0.        , 0.        , 0.        , 0.        ,\n",
       "       0.        , 0.        , 0.        , 0.        , 0.        ,\n",
       "       0.        , 0.        , 0.        , 0.        , 0.        ,\n",
       "       0.        , 0.        , 0.15686275, 0.6745098 , 0.98823535,\n",
       "       0.7960785 , 0.07843138, 0.        , 0.        , 0.        ,\n",
       "       0.        , 0.        , 0.        , 0.        , 0.        ,\n",
       "       0.        , 0.        , 0.        , 0.        , 0.        ,\n",
       "       0.        , 0.        , 0.08235294, 0.        , 0.        ,\n",
       "       0.        , 0.        , 0.        , 0.        , 0.        ,\n",
       "       0.        , 0.        , 0.7176471 , 0.9960785 , 0.43921572,\n",
       "       0.        , 0.        , 0.        , 0.        , 0.        ,\n",
       "       0.        , 0.        , 0.        , 0.        , 0.        ,\n",
       "       0.        , 0.        , 0.        , 0.        , 0.24313727,\n",
       "       0.7960785 , 0.6392157 , 0.        , 0.        , 0.        ,\n",
       "       0.        , 0.        , 0.        , 0.        , 0.        ,\n",
       "       0.2392157 , 0.9921569 , 0.5921569 , 0.        , 0.        ,\n",
       "       0.        , 0.        , 0.        , 0.        , 0.        ,\n",
       "       0.        , 0.        , 0.        , 0.        , 0.        ,\n",
       "       0.        , 0.08235294, 0.83921576, 0.75294125, 0.        ,\n",
       "       0.        , 0.        , 0.        , 0.        , 0.        ,\n",
       "       0.        , 0.        , 0.04313726, 0.8352942 , 0.9960785 ,\n",
       "       0.5921569 , 0.        , 0.        , 0.        , 0.        ,\n",
       "       0.        , 0.        , 0.        , 0.        , 0.        ,\n",
       "       0.        , 0.        , 0.        , 0.        , 0.40000004,\n",
       "       0.9921569 , 0.5921569 , 0.        , 0.        , 0.        ,\n",
       "       0.        , 0.        , 0.        , 0.        , 0.16078432,\n",
       "       0.8352942 , 0.98823535, 0.9921569 , 0.43529415, 0.        ,\n",
       "       0.        , 0.        , 0.        , 0.        , 0.        ,\n",
       "       0.        , 0.        , 0.        , 0.        , 0.        ,\n",
       "       0.        , 0.        , 0.16078432, 1.        , 0.8352942 ,\n",
       "       0.36078432, 0.20000002, 0.        , 0.        , 0.12156864,\n",
       "       0.36078432, 0.6784314 , 0.9921569 , 0.9960785 , 0.9921569 ,\n",
       "       0.5568628 , 0.        , 0.        , 0.        , 0.        ,\n",
       "       0.        , 0.        , 0.        , 0.        , 0.        ,\n",
       "       0.        , 0.        , 0.        , 0.        , 0.        ,\n",
       "       0.        , 0.6745098 , 0.98823535, 0.9921569 , 0.98823535,\n",
       "       0.7960785 , 0.7960785 , 0.91372555, 0.98823535, 0.9921569 ,\n",
       "       0.98823535, 0.9921569 , 0.50980395, 0.07843138, 0.        ,\n",
       "       0.        , 0.        , 0.        , 0.        , 0.        ,\n",
       "       0.        , 0.        , 0.        , 0.        , 0.        ,\n",
       "       0.        , 0.        , 0.        , 0.        , 0.08235294,\n",
       "       0.7960785 , 1.        , 0.9921569 , 0.9960785 , 0.9921569 ,\n",
       "       0.9960785 , 0.9921569 , 0.9568628 , 0.7960785 , 0.32156864,\n",
       "       0.        , 0.        , 0.        , 0.        , 0.        ,\n",
       "       0.        , 0.        , 0.        , 0.        , 0.        ,\n",
       "       0.        , 0.        , 0.        , 0.        , 0.        ,\n",
       "       0.        , 0.        , 0.        , 0.07843138, 0.5921569 ,\n",
       "       0.5921569 , 0.9921569 , 0.67058825, 0.5921569 , 0.5921569 ,\n",
       "       0.15686275, 0.        , 0.        , 0.        , 0.        ,\n",
       "       0.        , 0.        , 0.        , 0.        , 0.        ,\n",
       "       0.        , 0.        , 0.        , 0.        , 0.        ,\n",
       "       0.        , 0.        , 0.        , 0.        , 0.        ,\n",
       "       0.        , 0.        , 0.        , 0.        , 0.        ,\n",
       "       0.        , 0.        , 0.        , 0.        , 0.        ,\n",
       "       0.        , 0.        , 0.        , 0.        , 0.        ,\n",
       "       0.        , 0.        , 0.        , 0.        , 0.        ,\n",
       "       0.        , 0.        , 0.        , 0.        , 0.        ,\n",
       "       0.        , 0.        , 0.        , 0.        , 0.        ,\n",
       "       0.        , 0.        , 0.        , 0.        , 0.        ,\n",
       "       0.        , 0.        , 0.        , 0.        , 0.        ,\n",
       "       0.        , 0.        , 0.        , 0.        , 0.        ,\n",
       "       0.        , 0.        , 0.        , 0.        , 0.        ,\n",
       "       0.        , 0.        , 0.        , 0.        , 0.        ,\n",
       "       0.        , 0.        , 0.        , 0.        , 0.        ,\n",
       "       0.        , 0.        , 0.        , 0.        , 0.        ,\n",
       "       0.        , 0.        , 0.        , 0.        , 0.        ,\n",
       "       0.        , 0.        , 0.        , 0.        , 0.        ,\n",
       "       0.        , 0.        , 0.        , 0.        ], dtype=float32)"
      ]
     },
     "execution_count": 22,
     "metadata": {
      "tags": []
     },
     "output_type": "execute_result"
    }
   ],
   "source": [
    "# image 데이터 형태\n",
    "mnist.train.images[1]"
   ]
  },
  {
   "cell_type": "code",
   "execution_count": 23,
   "metadata": {
    "colab": {
     "base_uri": "https://localhost:8080/",
     "height": 36
    },
    "colab_type": "code",
    "id": "kKvqCNKSQto4",
    "outputId": "91f8e0de-cae6-4428-989f-4d4ed007d4b8"
   },
   "outputs": [
    {
     "data": {
      "text/plain": [
       "array([0., 0., 0., 1., 0., 0., 0., 0., 0., 0.])"
      ]
     },
     "execution_count": 23,
     "metadata": {
      "tags": []
     },
     "output_type": "execute_result"
    }
   ],
   "source": [
    "# label 데이터 형태\n",
    "mnist.train.labels[1]"
   ]
  },
  {
   "cell_type": "code",
   "execution_count": 26,
   "metadata": {
    "colab": {
     "base_uri": "https://localhost:8080/",
     "height": 366
    },
    "colab_type": "code",
    "id": "6RMNdC2--ncJ",
    "outputId": "7a8e5977-d3d0-4bdb-e8da-1abe1dd18539"
   },
   "outputs": [
    {
     "data": {
      "text/plain": [
       "<matplotlib.image.AxesImage at 0x7fd7d5bf64a8>"
      ]
     },
     "execution_count": 26,
     "metadata": {
      "tags": []
     },
     "output_type": "execute_result"
    },
    {
     "data": {
      "image/png": "[encoded data removed]",
      "text/plain": [
       "<matplotlib.figure.Figure at 0x7fd7d5c3b320>"
      ]
     },
     "metadata": {
      "tags": []
     },
     "output_type": "display_data"
    }
   ],
   "source": [
    "# 데이터가 어떻게 생긴건지 그려보자 \n",
    "train_images, train_labels = mnist.train.next_batch(1)   # train 데이터셋으로부터 데이터 100개 가져오기. (이미지, label) 튜플\n",
    "plt.imshow(train_images.reshape(28,28), cmap='Greys')"
   ]
  },
  {
   "cell_type": "code",
   "execution_count": 27,
   "metadata": {
    "colab": {
     "base_uri": "https://localhost:8080/",
     "height": 36
    },
    "colab_type": "code",
    "id": "_6xEC_pO-ndm",
    "outputId": "0db77acc-a561-4583-b13f-d6502ab5439f"
   },
   "outputs": [
    {
     "data": {
      "text/plain": [
       "((55000, 784), (55000, 10))"
      ]
     },
     "execution_count": 27,
     "metadata": {
      "tags": []
     },
     "output_type": "execute_result"
    }
   ],
   "source": [
    "# train data - image, label 차원\n",
    "mnist.train.images.shape , mnist.train.labels.shape "
   ]
  },
  {
   "cell_type": "code",
   "execution_count": 28,
   "metadata": {
    "colab": {
     "base_uri": "https://localhost:8080/",
     "height": 36
    },
    "colab_type": "code",
    "id": "WDxIepLO-nd1",
    "outputId": "909036b1-7c2e-4bd4-9fc0-eed54361ce4c",
    "scrolled": true
   },
   "outputs": [
    {
     "data": {
      "text/plain": [
       "((10000, 784), (10000, 10))"
      ]
     },
     "execution_count": 28,
     "metadata": {
      "tags": []
     },
     "output_type": "execute_result"
    }
   ],
   "source": [
    "# test data - image, label 차원\n",
    "mnist.test.images.shape , mnist.test.labels.shape"
   ]
  },
  {
   "cell_type": "markdown",
   "metadata": {
    "colab_type": "text",
    "id": "xgzQHX1k-neV"
   },
   "source": [
    "### DNN"
   ]
  },
  {
   "cell_type": "code",
   "execution_count": 0,
   "metadata": {
    "colab": {},
    "colab_type": "code",
    "id": "4BNtjdRM-neZ"
   },
   "outputs": [],
   "source": [
    "# 머신러닝 모델이 안좋다는 것을 비용, 손실이라고 부르며 우리의 모델이 원하는 결과와 얼마나 떨어져 있는지를 보여줌 - 줄여야 좋은모델\n",
    "# 손실을 정의하기 위해 cross-entropy 를 정의\n",
    "# corss - entropy : 우리 예측이 실제값을 설명하기에 얼마나 비효율적인지"
   ]
  },
  {
   "cell_type": "markdown",
   "metadata": {
    "colab_type": "text",
    "id": "lDMqCj7K-nez"
   },
   "source": [
    "### 모델구현"
   ]
  },
  {
   "cell_type": "code",
   "execution_count": 0,
   "metadata": {
    "colab": {},
    "colab_type": "code",
    "id": "obnJAR65-ne3"
   },
   "outputs": [],
   "source": [
    "num_hidden1 = 2500\n",
    "num_hidden2 = 2500\n",
    "num_hidden3 = 2500\n",
    "num_hidden4 = 1000\n",
    "num_hidden5 = 500\n",
    "\n",
    "x = tf.placeholder(tf.float32, [None, 784])    # x해당  # None : input에 따라 달라질거니까 자리 확보해주세요 \n",
    "Y = tf.placeholder(tf.float32, [None, 10])    # Y해당  # true value (y) 에 해당\n",
    "# placeholder : 텐서플로우에서 연산할 때 값을 입력한 자리! 784차원의 벡터로 변형된 MNIST 이미지를\n",
    "\n",
    "### 1층 \n",
    "# 만들고자 하는 형태는 z1 = x * W1 + b1 -> return : z1=relu(z1)\n",
    "W1 = tf.Variable(tf.truncated_normal([784, num_hidden1], mean = 0, stddev = tf.sqrt(2/784) )) #variable이니까 initializing 해야한다.\n",
    "b1 = tf.Variable(tf.zeros([1,num_hidden1]))  # 1부분이 broad casting 됨\n",
    "z1 = tf.nn.relu(tf.matmul(x,W1) + b1)\n",
    "\n",
    "### 2층 \n",
    "W2 = tf.Variable(tf.truncated_normal([num_hidden1, num_hidden2], stddev = tf.sqrt(2/num_hidden1)))  \n",
    "b2 = tf.Variable(tf.zeros([1,num_hidden2]))    \n",
    "z2 = tf.nn.relu(tf.matmul(z1,W2) + b2)\n",
    "\n",
    "### 3층 \n",
    "W3 = tf.Variable(tf.truncated_normal([num_hidden2, num_hidden3], stddev = tf.sqrt(2/num_hidden2)))  \n",
    "b3 = tf.Variable(tf.zeros([1,num_hidden3]))    \n",
    "z3 = tf.nn.relu(tf.matmul(z2,W3) + b3)\n",
    "\n",
    "### 4층\n",
    "W4 = tf.Variable(tf.truncated_normal([num_hidden3, num_hidden4], stddev = tf.sqrt(2/num_hidden3)))  \n",
    "b4 = tf.Variable(tf.zeros([1,num_hidden4]))    \n",
    "z4 = tf.nn.relu(tf.matmul(z3,W4) + b4)\n",
    "\n",
    "### 5층 \n",
    "W5 = tf.Variable(tf.truncated_normal([num_hidden4, num_hidden5], stddev = tf.sqrt(2/num_hidden4)))  \n",
    "b5 = tf.Variable(tf.zeros([1,num_hidden5]))    \n",
    "z5 = tf.nn.relu(tf.matmul(z4,W5) + b5)\n",
    "\n",
    "### 6층 (OUTPUT)\n",
    "W6 = tf.Variable(tf.truncated_normal([num_hidden5, 10], stddev = tf.sqrt(2/(num_hidden5+10))))\n",
    "b6 = tf.Variable(tf.zeros([1, 10]))\n",
    "z6 = tf.nn.softmax(tf.matmul(z5,W6) + b6)\n",
    "\n",
    "                 \n",
    "y = tf.nn.softmax(z6) \n",
    "cross_entropy = tf.reduce_mean(-tf.reduce_sum(Y * tf.log(y), axis = 1))\n",
    "train_step = tf.train.AdagradOptimizer(0.05).minimize(cross_entropy)\n",
    "\n",
    "correct_prediction = tf.equal(tf.argmax(z6, 1), tf.argmax(Y, 1))\n",
    "accuracy = tf.reduce_mean(tf.cast(correct_prediction, tf.float32))\n",
    "\n",
    "# reduction_indices = [1]   : y의 두번째 차원의 원소\n",
    "    # 학습비율 0.5로 Gradient Descent Algorithm적용\n",
    "    # Gradient Descent"
   ]
  },
  {
   "cell_type": "code",
   "execution_count": 29,
   "metadata": {
    "colab": {
     "base_uri": "https://localhost:8080/",
     "height": 204
    },
    "colab_type": "code",
    "id": "u_IvoWXF-nfA",
    "outputId": "3eb462e8-fdf4-421b-c22a-0ca02741fd68"
   },
   "outputs": [
    {
     "name": "stdout",
     "output_type": "stream",
     "text": [
      "0 0.114581816\n",
      "1 0.85474545\n",
      "2 0.94412726\n",
      "3 0.96794546\n",
      "4 0.9704\n",
      "5 0.9748727\n",
      "6 0.9833091\n",
      "7 0.9861636\n",
      "8 0.9869818\n",
      "9 0.98896366\n"
     ]
    }
   ],
   "source": [
    "\n",
    "N = 55000\n",
    "batch_size = 100 \n",
    "n_batches = N // batch_size   # 몇번 할건지!!!!! \n",
    "\n",
    "# 작성하기 전에 작이제까지 작성한 변수들을 초기화해야함!\n",
    "init = tf.global_variables_initializer()\n",
    "sess = tf.Session()\n",
    "sess.run(init)\n",
    "\n",
    "\n",
    "for epoch in range(10): \n",
    "    X_, Y_ = shuffle(mnist.train.images, mnist.train.labels)\n",
    "    \n",
    "    j = sess.run(accuracy, feed_dict = { x: mnist.train.images, Y: mnist.train.labels })\n",
    "    print(epoch, j)\n",
    "    \n",
    "    for i in range(n_batches):  # 한 데이터당 15번해줘야하니까 \n",
    "        start = i * batch_size\n",
    "        end = start + batch_size  # end가 300번보다 많으면 error발생함  # 이렇게해도 300넘지않음\n",
    "        \n",
    "        sess.run(train_step, feed_dict = {x : X_[start:end, :], Y : Y_[start:end, :]})\n",
    "    "
   ]
  },
  {
   "cell_type": "markdown",
   "metadata": {
    "colab_type": "text",
    "id": "AjrQmQuv-nfL"
   },
   "source": [
    "### 모델 평가하기"
   ]
  },
  {
   "cell_type": "code",
   "execution_count": 30,
   "metadata": {
    "colab": {
     "base_uri": "https://localhost:8080/",
     "height": 36
    },
    "colab_type": "code",
    "id": "TWrnlHt0-nfP",
    "outputId": "bc455317-6f09-46d6-dca3-3f5f5ff17864"
   },
   "outputs": [
    {
     "name": "stdout",
     "output_type": "stream",
     "text": [
      "0.9773\n"
     ]
    }
   ],
   "source": [
    "# 모델 평가하기\n",
    "\n",
    "my_prediction = tf.cast( tf.argmax(y,1), tf.float32 )    \n",
    "\n",
    "\n",
    "\n",
    "correct_prediction = tf.equal( tf.argmax(y,1), tf.argmax(Y,1) )  # argmax 몇번째인지 찾아줌\n",
    "    # tf.argmax(y,1) : 우리 모델이 생각하기에 가장 적합하다고 판단한 라벨\n",
    "    # tf.argmax(Y,1) : 실제라벨\n",
    "\n",
    "    # tf.equal 을 통해 우리 예측이 맞았는지 확인가능\n",
    "    # 부울값으로 이루어진 리스트 얻게 됨 \n",
    "\n",
    "    # 부동소수점으로 변환후 평균 계산함\n",
    "    # ex. [T,F,T,T] 는 [1,0,1,1] 이 되며 이 평균을 계산하면 0.75가 됨!\n",
    "    \n",
    "accuracy = tf.reduce_mean(tf.cast(correct_prediction, tf.float32))   \n",
    "\n",
    "    # correct_prediction 값을 float32 형식으로 변환함\n",
    "\n",
    "print(sess.run(accuracy, feed_dict={x: mnist.test.images, Y: mnist.test.labels}))\n"
   ]
  },
  {
   "cell_type": "code",
   "execution_count": 1,
   "metadata": {
    "colab": {
     "base_uri": "https://localhost:8080/",
     "height": 2287
    },
    "colab_type": "code",
    "id": "QsDDD6G--nf9",
    "outputId": "5f06f3ae-996d-4351-d2ef-1133de143ab2"
   },
   "outputs": [],
   "source": [
    "#a=sess.run(my_prediction, feed_dict={x: mnist.test.images, Y: mnist.test.labels})\n",
    "#print(a)\n",
    "#print(a.shape())"
   ]
  },
  {
   "cell_type": "code",
   "execution_count": 19,
   "metadata": {
    "colab": {
     "base_uri": "https://localhost:8080/",
     "height": 36
    },
    "colab_type": "code",
    "id": "wJBnI9zA-ng1",
    "outputId": "20d98ea8-e153-4a4a-b77b-ad46e05c0dc6"
   },
   "outputs": [
    {
     "data": {
      "text/plain": [
       "array([ True,  True,  True, ...,  True,  True,  True])"
      ]
     },
     "execution_count": 19,
     "metadata": {
      "tags": []
     },
     "output_type": "execute_result"
    }
   ],
   "source": [
    "#sess.run(correct_prediction , feed_dict={x: mnist.test.images, Y: mnist.test.labels} )"
   ]
  },
  {
   "cell_type": "code",
   "execution_count": 20,
   "metadata": {
    "colab": {
     "base_uri": "https://localhost:8080/",
     "height": 36
    },
    "colab_type": "code",
    "id": "yR2x_LUx-nhL",
    "outputId": "97ff3839-ea1e-4384-beff-f01c885d365e"
   },
   "outputs": [
    {
     "data": {
      "text/plain": [
       "(10000,)"
      ]
     },
     "execution_count": 20,
     "metadata": {
      "tags": []
     },
     "output_type": "execute_result"
    }
   ],
   "source": [
    "#tt = my_prediction.eval(session = sess, feed_dict = {x: mnist.test.images, Y: mnist.test.labels})\n",
    "#\n",
    "#tt.shape"
   ]
  }
 ],
 "metadata": {
  "accelerator": "GPU",
  "colab": {
   "collapsed_sections": [],
   "name": "MNIST_발표.ipynb",
   "provenance": [],
   "version": "0.3.2"
  },
  "kernelspec": {
   "display_name": "Python [default]",
   "language": "python",
   "name": "python3"
  },
  "language_info": {
   "codemirror_mode": {
    "name": "ipython",
    "version": 3
   },
   "file_extension": ".py",
   "mimetype": "text/x-python",
   "name": "python",
   "nbconvert_exporter": "python",
   "pygments_lexer": "ipython3",
   "version": "3.6.5"
  }
 },
 "nbformat": 4,
 "nbformat_minor": 1
}
