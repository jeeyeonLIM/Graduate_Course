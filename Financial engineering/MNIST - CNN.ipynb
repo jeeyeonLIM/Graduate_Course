{
 "cells": [
  {
   "cell_type": "markdown",
   "metadata": {},
   "source": [
    "# MNIST - CNN (tensorflow)"
   ]
  },
  {
   "cell_type": "markdown",
   "metadata": {},
   "source": [
    "### Data"
   ]
  },
  {
   "cell_type": "code",
   "execution_count": 1,
   "metadata": {},
   "outputs": [
    {
     "name": "stderr",
     "output_type": "stream",
     "text": [
      "C:\\Users\\jeeyeon\\Anaconda3\\lib\\site-packages\\h5py\\__init__.py:36: FutureWarning: Conversion of the second argument of issubdtype from `float` to `np.floating` is deprecated. In future, it will be treated as `np.float64 == np.dtype(float).type`.\n",
      "  from ._conv import register_converters as _register_converters\n"
     ]
    },
    {
     "name": "stdout",
     "output_type": "stream",
     "text": [
      "WARNING:tensorflow:From <ipython-input-1-dc63106f740c>:13: read_data_sets (from tensorflow.contrib.learn.python.learn.datasets.mnist) is deprecated and will be removed in a future version.\n",
      "Instructions for updating:\n",
      "Please use alternatives such as official/mnist/dataset.py from tensorflow/models.\n",
      "WARNING:tensorflow:From C:\\Users\\jeeyeon\\Anaconda3\\lib\\site-packages\\tensorflow\\contrib\\learn\\python\\learn\\datasets\\mnist.py:260: maybe_download (from tensorflow.contrib.learn.python.learn.datasets.base) is deprecated and will be removed in a future version.\n",
      "Instructions for updating:\n",
      "Please write your own downloading logic.\n",
      "WARNING:tensorflow:From C:\\Users\\jeeyeon\\Anaconda3\\lib\\site-packages\\tensorflow\\contrib\\learn\\python\\learn\\datasets\\base.py:252: _internal_retry.<locals>.wrap.<locals>.wrapped_fn (from tensorflow.contrib.learn.python.learn.datasets.base) is deprecated and will be removed in a future version.\n",
      "Instructions for updating:\n",
      "Please use urllib or similar directly.\n",
      "Successfully downloaded train-images-idx3-ubyte.gz 9912422 bytes.\n",
      "WARNING:tensorflow:From C:\\Users\\jeeyeon\\Anaconda3\\lib\\site-packages\\tensorflow\\contrib\\learn\\python\\learn\\datasets\\mnist.py:262: extract_images (from tensorflow.contrib.learn.python.learn.datasets.mnist) is deprecated and will be removed in a future version.\n",
      "Instructions for updating:\n",
      "Please use tf.data to implement this functionality.\n",
      "Extracting MNIST_data/train-images-idx3-ubyte.gz\n",
      "Successfully downloaded train-labels-idx1-ubyte.gz 28881 bytes.\n",
      "WARNING:tensorflow:From C:\\Users\\jeeyeon\\Anaconda3\\lib\\site-packages\\tensorflow\\contrib\\learn\\python\\learn\\datasets\\mnist.py:267: extract_labels (from tensorflow.contrib.learn.python.learn.datasets.mnist) is deprecated and will be removed in a future version.\n",
      "Instructions for updating:\n",
      "Please use tf.data to implement this functionality.\n",
      "Extracting MNIST_data/train-labels-idx1-ubyte.gz\n",
      "WARNING:tensorflow:From C:\\Users\\jeeyeon\\Anaconda3\\lib\\site-packages\\tensorflow\\contrib\\learn\\python\\learn\\datasets\\mnist.py:110: dense_to_one_hot (from tensorflow.contrib.learn.python.learn.datasets.mnist) is deprecated and will be removed in a future version.\n",
      "Instructions for updating:\n",
      "Please use tf.one_hot on tensors.\n",
      "Successfully downloaded t10k-images-idx3-ubyte.gz 1648877 bytes.\n",
      "Extracting MNIST_data/t10k-images-idx3-ubyte.gz\n",
      "Successfully downloaded t10k-labels-idx1-ubyte.gz 4542 bytes.\n",
      "Extracting MNIST_data/t10k-labels-idx1-ubyte.gz\n",
      "WARNING:tensorflow:From C:\\Users\\jeeyeon\\Anaconda3\\lib\\site-packages\\tensorflow\\contrib\\learn\\python\\learn\\datasets\\mnist.py:290: DataSet.__init__ (from tensorflow.contrib.learn.python.learn.datasets.mnist) is deprecated and will be removed in a future version.\n",
      "Instructions for updating:\n",
      "Please use alternatives such as official/mnist/dataset.py from tensorflow/models.\n"
     ]
    }
   ],
   "source": [
    "import matplotlib.pyplot as plt\n",
    "import numpy as np\n",
    "import tensorflow as tf\n",
    "\n",
    "from __future__ import division\n",
    "from __future__ import print_function\n",
    "from __future__ import absolute_import\n",
    "\n",
    "from sklearn.utils import shuffle\n",
    "\n",
    "from tensorflow.examples.tutorials.mnist import input_data\n",
    "\n",
    "mnist = input_data.read_data_sets(\"MNIST_data/\", one_hot = True)\n",
    "train_xdata = np.array([np.reshape(x, (28, 28, 1)) for x in mnist.train.images])\n",
    "test_xdata = np.array([np.reshape(x, (28, 28, 1)) for x in mnist.test.images])\n",
    "train_labels = mnist.train.labels\n",
    "test_labels = mnist.test.labels"
   ]
  },
  {
   "cell_type": "code",
   "execution_count": 2,
   "metadata": {},
   "outputs": [
    {
     "name": "stdout",
     "output_type": "stream",
     "text": [
      "(55000, 28, 28, 1) (10000, 28, 28, 1) (55000, 10) (10000, 10)\n"
     ]
    }
   ],
   "source": [
    "print(train_xdata.shape, test_xdata.shape, train_labels.shape, test_labels.shape)"
   ]
  },
  {
   "cell_type": "markdown",
   "metadata": {},
   "source": [
    "### Layer"
   ]
  },
  {
   "cell_type": "markdown",
   "metadata": {},
   "source": [
    "##### (1) Input layer"
   ]
  },
  {
   "cell_type": "code",
   "execution_count": 3,
   "metadata": {},
   "outputs": [],
   "source": [
    "input_data = tf.placeholder(tf.float32, shape = [None, 28, 28, 1])\n",
    "\n",
    "# 흑백 이미지 데이터. 따라서 channel = 1\n",
    "# training 방법으로 mini-batch 선택. 따라서 input data의 데이터 수가 batch size에 dependent하기 때문에 [None, 28, 28, 1]로 지정."
   ]
  },
  {
   "cell_type": "markdown",
   "metadata": {},
   "source": [
    "##### (2) Convolution layer 1"
   ]
  },
  {
   "cell_type": "code",
   "execution_count": 4,
   "metadata": {},
   "outputs": [],
   "source": [
    "FW1 = 4\n",
    "FH1 = 4\n",
    "FN1 = 32\n",
    "\n",
    "filter1 = tf.Variable(tf.random_normal([FW1, FH1, 1, FN1], mean = 0, stddev = 0.1))\n",
    "bias1 = tf.Variable(tf.zeros([1, 1, FN1]))\n",
    "# cross entropy를 최소화하는 filter1과 bias1을 찾는 것이 목표이기 때문에 filter1과 bias1 값을 바꿔가면서 optimizing.\n",
    "# output의 차원 유지를 위해 [4, 4, 1] 크기의 filter를 32개 생성.\n",
    "\n",
    "conv1 = tf.nn.conv2d(input_data, filter1, strides = [1, 1, 1, 1], padding = \"SAME\")\n",
    "relu1 = tf.nn.relu(conv1 + bias1)\n",
    "# input_data & filter : 2차원에서 filter1을 한 칸씩 옮기면서 element-wise operation. 단, 차원 유지를 위해 padding = \"SAME\" 옵션 설정.\n",
    "# conv1.shape = relu1.shape = [None, 28, 28, 32]\n",
    "\n",
    "max_pool1 = tf.nn.max_pool(relu1, ksize = [1, 2, 2, 1], strides = [1, 2, 2, 1], padding = \"SAME\")\n",
    "# 중복되는 정보를 제거하기 위해 (overfitting 방지하기 위해) pooling.\n",
    "# 2 by 2 windows로 pooling. window size와 strides를 동일하게 맞춰주어야 한다.\n",
    "# max_pool1.shape = [None, 14, 14, 32]"
   ]
  },
  {
   "cell_type": "markdown",
   "metadata": {},
   "source": [
    "##### (3) Convolution layer 2"
   ]
  },
  {
   "cell_type": "code",
   "execution_count": 5,
   "metadata": {},
   "outputs": [],
   "source": [
    "FW2 = 4\n",
    "FH2 = 4\n",
    "FN2 = 64\n",
    "\n",
    "filter2 = tf.Variable(tf.random_normal([FW2, FH2, FN1, FN2], mean = 0, stddev = 0.1))\n",
    "bias2 = tf.Variable(tf.zeros([1, 1, FN2]))\n",
    "# cross entropy를 최소화하는 filter2와 bias2를 찾는 것이 목표이기 때문에 filter2와 bias2 값을 바꿔가면서 optimizing.\n",
    "# output의 차원 유지를 위해 [4, 4, 1] 크기의 filter를 64개 생성.\n",
    "\n",
    "conv2 = tf.nn.conv2d(max_pool1, filter2, strides = [1, 1, 1, 1], padding = \"SAME\")\n",
    "relu2 = tf.nn.relu(conv2 + bias2)\n",
    "# convolution layer 2에서 input_data : max_pool1\n",
    "# max_pool1 & filter : 2차원에서 filter2를 한 칸씩 옮기면서 element-wise operation. 단, 차원 유지를 위해 padding = \"SAME\" 옵션 설정.\n",
    "# conv2.shape = relu2.shape = [None, 14, 14, 64]\n",
    "\n",
    "max_pool2 = tf.nn.max_pool(relu2, ksize = [1, 2, 2, 1], strides = [1, 2, 2, 1], padding = \"SAME\")\n",
    "# 중복되는 정보를 제거하기 위해 (overfitting 방지하기 위해) pooling.\n",
    "# 2 by 2 windows로 pooling. window size와 strides를 동일하게 맞춰주어야 한다.\n",
    "# max_pool2.shape = [None, 7, 7, 64]"
   ]
  },
  {
   "cell_type": "markdown",
   "metadata": {},
   "source": [
    "##### (4) Reshape"
   ]
  },
  {
   "cell_type": "code",
   "execution_count": 6,
   "metadata": {},
   "outputs": [],
   "source": [
    "# Affine layer, 즉, Deep Neural Network를 실행하기 위해서 2차원으로 차원 변환 과정 필요.\n",
    "# convolution layer 2에서 출력된 최종 output의 shape = max_pool2.shape = [None, 7, 7, 64]\n",
    "# [None, 7, 7, 64] -> [None, 7 * 7 * 64]로 reshape.\n",
    "\n",
    "final_conv_shape = max_pool2.get_shape().as_list()\n",
    "final_shape = final_conv_shape[1] * final_conv_shape[2] * final_conv_shape[3]\n",
    "flat_output = tf.reshape(max_pool2, [-1, final_shape])\n",
    "# [-1, final_shape]에서 -1 의미 : batch size 유지."
   ]
  },
  {
   "cell_type": "markdown",
   "metadata": {},
   "source": [
    "##### (5) Affine layer"
   ]
  },
  {
   "cell_type": "code",
   "execution_count": 7,
   "metadata": {},
   "outputs": [],
   "source": [
    "W1 = tf.Variable(tf.random_normal([final_shape, 128], mean = 0, stddev = 0.001))\n",
    "b1 = tf.Variable(tf.zeros([1, 128]))\n",
    "# affine layer에서 input_data : flat_output\n",
    "# flat_output.shape = [None, 7 * 7 * 64]\n",
    "# W1.shape = [7 * 7 * 64, 128]\n",
    "# b1.shape = [1, 128]\n",
    "# cross entropy를 최소화하는 W1과 b1을 찾는 것이 목표이기 때문에 W1과 b1 값을 바꿔가면서 optimizing.\n",
    "\n",
    "a1 = tf.nn.relu(tf.matmul(flat_output, W1) + b1)\n",
    "# b1은 [1, 128]에서 [None, 128]로 broadcasting이 된 후, 위의 연산 과정을 거쳐 a1이 출력된다.\n",
    "# a1.shape = [None, 128]"
   ]
  },
  {
   "cell_type": "markdown",
   "metadata": {},
   "source": [
    "##### (6) Dropout"
   ]
  },
  {
   "cell_type": "code",
   "execution_count": 8,
   "metadata": {},
   "outputs": [],
   "source": [
    "keep_prob = tf.placeholder(tf.float32)\n",
    "a1_drop = tf.nn.dropout(a1, keep_prob)"
   ]
  },
  {
   "cell_type": "markdown",
   "metadata": {},
   "source": [
    "##### (7) Output layer"
   ]
  },
  {
   "cell_type": "code",
   "execution_count": 9,
   "metadata": {},
   "outputs": [],
   "source": [
    "W2 = tf.Variable(tf.random_normal([128, 10], mean = 0, stddev = 0.001))\n",
    "b2 = tf.Variable(tf.zeros([1, 10]))\n",
    "# output layer에서 input_data : a1_drop\n",
    "# a1.shape = [None, 128]\n",
    "# W2.shape = [128, 10]\n",
    "# b2.shape = [1, 10]\n",
    "# cross entropy를 최소화하는 W2와 b2를 찾는 것이 목표이기 때문에 W2와 b2 값을 바꿔가면서 optimizing.\n",
    "\n",
    "a2 = tf.nn.softmax(tf.matmul(a1_drop, W2) + b2)\n",
    "# b2는 [1, 10]에서 [None, 128]로 broadcasting이 된 후, 위의 연산 과정을 거쳐 a2가 출력된다.\n",
    "# a2.shape = [None, 10]\n",
    "# 10개의 class로 분류하기 위해 softmax 함수 사용.\n",
    "\n",
    "t = tf.placeholder(tf.float32, shape = [None, 10])\n",
    "# t : true label (true y)\n",
    "# training 방법으로 mini-batch 선택. 따라서 output의 데이터 수가 batch size에 dependent하기 때문에 [None, 10]으로 지정."
   ]
  },
  {
   "cell_type": "markdown",
   "metadata": {},
   "source": [
    "### Initializing"
   ]
  },
  {
   "cell_type": "code",
   "execution_count": 10,
   "metadata": {},
   "outputs": [],
   "source": [
    "sess = tf.Session()\n",
    "init = tf.global_variables_initializer()\n",
    "sess.run(init)"
   ]
  },
  {
   "cell_type": "markdown",
   "metadata": {},
   "source": [
    "### Cross entropy & Train step & accuracy"
   ]
  },
  {
   "cell_type": "code",
   "execution_count": 11,
   "metadata": {},
   "outputs": [],
   "source": [
    "cross_entropy = tf.reduce_mean(-tf.reduce_mean(t * tf.log(a2), axis = 1))\n",
    "train_step = tf.train.GradientDescentOptimizer(0.1).minimize(cross_entropy)\n",
    "# t.shape = [None, 10]\n",
    "# a2.shape = [None, 10]\n",
    "# t & a2 : 각 행마다 element-wise operation 후, 평균을 취해주면 shape가 [None, 1]이 되고 다시 한 번 평균을 취해주면 scalar가 된다.\n",
    "# learning rate는 0.1로 설정 후, Stochastic Gradient Descent 방법으로 cross entropy가 최소가 되게끔 optimizing.\n",
    "\n",
    "correct_prediction = tf.equal(tf.argmax(t, 1), tf.argmax(a2, 1))\n",
    "# true label인 t의 각 행에서 가장 큰 값의 위치와 output인 a2의 각 행에서 가장 큰값의 위치가 일치하는지 체크.\n",
    "# 즉, 실제값과 예측치가 일치하는지 true/false로 반환해준다.\n",
    "\n",
    "accuracy = tf.reduce_mean(tf.to_float(correct_prediction))\n",
    "# true/false로 이루어진 correct_prediction을 숫자로 바꾸면 true는 1로 false는 0으로 바뀐다.\n",
    "# 이렇게 0과 1로 바뀐 숫자들의 평균 = 예측 정확도"
   ]
  },
  {
   "cell_type": "markdown",
   "metadata": {},
   "source": [
    "### Training (mini-batch)"
   ]
  },
  {
   "cell_type": "code",
   "execution_count": null,
   "metadata": {},
   "outputs": [],
   "source": [
    "batch_size = 100\n",
    "n_batch = 55000 // batch_size\n",
    "\n",
    "for epoch in range(10) :\n",
    "    X_, Y_ = shuffle(train_xdata, train_labels)\n",
    "    \n",
    "    for i in range(n_batch) :\n",
    "        start = 0 + i * batch_size\n",
    "        end = start + batch_size\n",
    "        sess.run(train_step, feed_dict = {input_data : X_[start:end, :], t : Y_[start:end, :], keep_prob : 0.8})\n",
    "        \n",
    "# mini-batch 방식으로 training.\n",
    "# train data를 100개씩 550번 training 하는데 이 과정을 총 10번 반복.\n",
    "# 매 epoch마다 train data 100개를 random하게 추출해서 550번 training하기 위해 train data를 shuffle.\n",
    "# 20% 확률의 dropout 이용."
   ]
  },
  {
   "cell_type": "markdown",
   "metadata": {},
   "source": [
    "### Result"
   ]
  },
  {
   "cell_type": "markdown",
   "metadata": {},
   "source": [
    "##### (1) Accuracy"
   ]
  },
  {
   "cell_type": "code",
   "execution_count": null,
   "metadata": {},
   "outputs": [],
   "source": [
    "train_acc = sess.run(accuracy, feed_dict = {input_data : train_xdata, t : train_labels, keep_prob : 0.8})\n",
    "test_acc = sess.run(accuracy, feed_dict = {input_data : test_xdata, t : test_labels, keep_prob : 1.0}) #dropout off\n",
    "print(train_acc, test_acc)"
   ]
  },
  {
   "cell_type": "markdown",
   "metadata": {},
   "source": [
    "##### (2) Misclassification"
   ]
  },
  {
   "cell_type": "code",
   "execution_count": 15,
   "metadata": {},
   "outputs": [
    {
     "data": {
      "text/plain": [
       "(array([ 247,  259,  290,  320,  321,  340,  445,  495,  582,  583,  591,\n",
       "         613,  619,  659,  684,  720,  740,  938,  947,  965, 1014, 1039,\n",
       "        1112, 1114, 1181, 1182, 1226, 1232, 1247, 1260, 1290, 1299, 1319,\n",
       "        1326, 1378, 1393, 1414, 1500, 1522, 1530, 1553, 1621, 1678, 1681,\n",
       "        1709, 1717, 1754, 1790, 1878, 1901, 1984, 2016, 2035, 2043, 2044,\n",
       "        2053, 2093, 2098, 2109, 2129, 2130, 2135, 2148, 2182, 2185, 2189,\n",
       "        2272, 2293, 2387, 2406, 2408, 2414, 2422, 2433, 2447, 2462, 2488,\n",
       "        2607, 2631, 2648, 2654, 2771, 2863, 2896, 2927, 2952, 2953, 2995,\n",
       "        3005, 3060, 3073, 3206, 3503, 3520, 3550, 3558, 3597, 3629, 3662,\n",
       "        3718, 3757, 3767, 3780, 3796, 3808, 3818, 3836, 3838, 3869, 3902,\n",
       "        3906, 3926, 3941, 3943, 3985, 4065, 4075, 4078, 4152, 4163, 4176,\n",
       "        4224, 4248, 4256, 4289, 4306, 4435, 4477, 4497, 4500, 4536, 4575,\n",
       "        4578, 4601, 4639, 4740, 4761, 4807, 4814, 4823, 4874, 4880, 4956,\n",
       "        4966, 5159, 5331, 5600, 5642, 5734, 5835, 5842, 5887, 5888, 5913,\n",
       "        5937, 5955, 5973, 5982, 5985, 6035, 6045, 6059, 6065, 6071, 6081,\n",
       "        6091, 6157, 6166, 6172, 6505, 6555, 6571, 6597, 6608, 6651, 6847,\n",
       "        7434, 7459, 7492, 7886, 8059, 8094, 8115, 8183, 8408, 8520, 9009,\n",
       "        9015, 9024, 9280, 9530, 9587, 9634, 9642, 9664, 9679, 9692, 9700,\n",
       "        9719, 9729, 9744, 9745, 9749, 9768, 9770, 9779, 9811, 9839, 9888,\n",
       "        9892, 9905, 9944, 9982], dtype=int64),)"
      ]
     },
     "execution_count": 15,
     "metadata": {},
     "output_type": "execute_result"
    }
   ],
   "source": [
    "b = sess.run(correct_prediction, feed_dict = {input_data : test_xdata, t : test_labels, keep_prob : 1.0})\n",
    "# training으로부터 구해진 variable을 이용해 test data를 입력했을 때의 예측치가 실제값과 일치하는지 true/false를 반환.\n",
    "\n",
    "index = np.where(b == False)\n",
    "index\n",
    "# 예측치와 실제값이 불일치하는 행. 즉, misclassification index."
   ]
  },
  {
   "cell_type": "code",
   "execution_count": 16,
   "metadata": {},
   "outputs": [],
   "source": [
    "actual_my = np.argmax(test_labels, axis = 1)\n",
    "# actual_my : 실제값\n",
    "\n",
    "pred_my = sess.run(tf.argmax(a2, 1), feed_dict = {input_data : test_xdata, keep_prob : 1.0})\n",
    "# pred_my : 예측치"
   ]
  },
  {
   "cell_type": "code",
   "execution_count": 17,
   "metadata": {},
   "outputs": [
    {
     "data": {
      "text/plain": [
       "array([4, 6, 8, 9, 2, 5, 6, 8, 8, 2, 8, 2, 1, 2, 7, 5, 4, 3, 8, 6, 6, 7,\n",
       "       4, 3, 6, 6, 7, 9, 9, 7, 3, 5, 8, 7, 5, 5, 9, 7, 7, 8, 9, 0, 2, 3,\n",
       "       9, 8, 7, 2, 8, 9, 2, 7, 5, 4, 2, 4, 8, 2, 3, 9, 4, 6, 4, 1, 0, 9,\n",
       "       8, 9, 9, 9, 3, 9, 6, 2, 4, 2, 2, 7, 0, 9, 6, 4, 9, 8, 3, 3, 3, 6,\n",
       "       9, 9, 1, 8, 9, 6, 6, 5, 9, 8, 8, 4, 8, 7, 4, 2, 7, 0, 7, 7, 9, 5,\n",
       "       1, 9, 4, 3, 9, 0, 8, 9, 5, 9, 2, 9, 2, 3, 2, 3, 3, 0, 8, 9, 6, 4,\n",
       "       7, 8, 8, 3, 9, 8, 6, 9, 9, 0, 8, 7, 4, 1, 7, 1, 3, 7, 4, 7, 4, 5,\n",
       "       5, 3, 3, 5, 5, 2, 3, 3, 3, 9, 9, 9, 9, 9, 9, 9, 8, 9, 0, 9, 0, 6,\n",
       "       4, 9, 2, 2, 2, 2, 3, 8, 8, 4, 7, 7, 7, 8, 9, 9, 0, 9, 2, 6, 9, 2,\n",
       "       5, 5, 8, 4, 5, 2, 5, 2, 2, 2, 6, 8, 3, 3, 5], dtype=int64)"
      ]
     },
     "execution_count": 17,
     "metadata": {},
     "output_type": "execute_result"
    }
   ],
   "source": [
    "actual_my[index[0]]\n",
    "# 잘못 분류한 행에 해당되는 실제값"
   ]
  },
  {
   "cell_type": "code",
   "execution_count": 18,
   "metadata": {},
   "outputs": [
    {
     "data": {
      "text/plain": [
       "array([2, 0, 4, 1, 7, 3, 0, 0, 2, 7, 3, 8, 8, 1, 3, 8, 9, 5, 9, 0, 5, 1,\n",
       "       6, 8, 1, 8, 2, 4, 0, 1, 5, 7, 3, 2, 6, 3, 7, 1, 9, 7, 3, 6, 0, 7,\n",
       "       5, 0, 2, 8, 3, 4, 0, 2, 3, 8, 7, 9, 1, 0, 7, 8, 9, 1, 9, 2, 8, 1,\n",
       "       0, 0, 1, 1, 9, 4, 4, 1, 9, 8, 4, 1, 6, 0, 1, 9, 4, 0, 2, 5, 5, 5,\n",
       "       1, 7, 2, 3, 1, 4, 5, 0, 3, 3, 0, 9, 3, 2, 6, 8, 8, 6, 9, 1, 4, 3,\n",
       "       3, 3, 2, 5, 4, 2, 0, 3, 1, 0, 7, 7, 8, 0, 7, 7, 7, 6, 7, 1, 5, 2,\n",
       "       9, 4, 9, 5, 8, 0, 0, 4, 0, 8, 4, 9, 9, 6, 9, 8, 7, 9, 7, 0, 0, 3,\n",
       "       3, 8, 8, 3, 8, 0, 9, 9, 8, 3, 3, 8, 8, 3, 8, 0, 9, 7, 7, 5, 8, 4,\n",
       "       8, 5, 7, 4, 1, 8, 8, 5, 6, 9, 2, 2, 2, 5, 8, 4, 8, 7, 7, 3, 7, 8,\n",
       "       0, 6, 1, 2, 6, 0, 0, 0, 8, 7, 0, 5, 9, 8, 6], dtype=int64)"
      ]
     },
     "execution_count": 18,
     "metadata": {},
     "output_type": "execute_result"
    }
   ],
   "source": [
    "pred_my[index[0]]\n",
    "# 잘못 분류한 행에 해당되는 예측치"
   ]
  },
  {
   "cell_type": "markdown",
   "metadata": {},
   "source": [
    "### Plot"
   ]
  },
  {
   "cell_type": "code",
   "execution_count": 19,
   "metadata": {},
   "outputs": [
    {
     "name": "stdout",
     "output_type": "stream",
     "text": [
      "4 2\n",
      "6 0\n",
      "8 4\n",
      "9 1\n",
      "2 7\n",
      "5 3\n",
      "6 0\n",
      "8 0\n",
      "8 2\n",
      "2 7\n",
      "8 3\n",
      "2 8\n"
     ]
    },
    {
     "data": {
      "image/png": "[encoded data removed]",
      "text/plain": [
       "<Figure size 432x288 with 12 Axes>"
      ]
     },
     "metadata": {},
     "output_type": "display_data"
    }
   ],
   "source": [
    "Nrow = 3\n",
    "Ncol = 4\n",
    "\n",
    "for i in range(Nrow * Ncol) :\n",
    "    plt.subplot(Nrow, Ncol, i + 1)\n",
    "    plt.imshow(test_xdata[index[0][i], :, :, 0])\n",
    "    print(actual_my[index[0][i]], pred_my[index[0][i]])\n",
    "    \n",
    "# misclassification index를 이용해 잘못 분류한 처음 12개의 데이터에 대해서 실제값과 예측치를 print하고 그림 출력."
   ]
  }
 ],
 "metadata": {
  "kernelspec": {
   "display_name": "Python [default]",
   "language": "python",
   "name": "python3"
  },
  "language_info": {
   "codemirror_mode": {
    "name": "ipython",
    "version": 3
   },
   "file_extension": ".py",
   "mimetype": "text/x-python",
   "name": "python",
   "nbconvert_exporter": "python",
   "pygments_lexer": "ipython3",
   "version": "3.6.5"
  }
 },
 "nbformat": 4,
 "nbformat_minor": 2
}
