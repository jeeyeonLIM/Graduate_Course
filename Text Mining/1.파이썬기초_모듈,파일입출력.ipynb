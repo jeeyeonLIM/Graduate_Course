{
 "cells": [
  {
   "cell_type": "markdown",
   "metadata": {},
   "source": [
    "# 모듈 사용하기 "
   ]
  },
  {
   "cell_type": "markdown",
   "metadata": {},
   "source": [
    " 아래에서는 if __name__ == '__main__' : 의미를 알아보기 위해 아래 개념을 공부해보자 "
   ]
  },
  {
   "cell_type": "markdown",
   "metadata": {},
   "source": [
    "\n",
    "### 모듈 \n",
    "\n",
    "- 파이썬 코드를 담고 있는 공간 , \n",
    "- 파이썬클래스,함수,names 리스트가 들어있음 \n",
    "- 각 모듈은 유일한 namespace 갖기 때문에 동일 모듈 내에서 동일한 이름을 갖는 클래스나 함수를 정의할 수 없음\n",
    "- 모듈은 각각 완전 독립이기 때문에 두 모듈은 동일한 이름을 갖는 클래스나 함수를 정의할 수 있다\n",
    "\n",
    "### 모듈 import 하기\n",
    "\n",
    "- 방법1    모듈의 namespace 에 접근가능함, 가장 간단하고 좋은 방법 \n",
    "            import module_name \n",
    "            modeule_name.name  #여기서 name 은 module_name 안에 있는 name 중 하나 \n",
    "            예시) import sys   # sys 는 모듈이름이고 path 는 sys라는 모듈 안에 있는 name\n",
    "                  sys.path \n",
    "- 방법2     모듈의 namespace에서 import 에서 지정된 모듈 내 이름을 직접 가져오도록 함, 즉 name만 자유롭게 사용가능함, 엉킬수 있음 \n",
    "            from module_name import name\n",
    "            name \n",
    "            예시) from sys import path\n",
    "                  path\n",
    "- 방법3     모듈 내에 있는 모든 name 을 직접 현재 namespace로 가져오는 것, 현재와해당모듈내의 namespace가 섞일 수 있어서 주의가 필요\n",
    "            from module_name import *\n",
    "            if __name__ == \"__main__\"  # 만약 이 파일이 인터프리터에 의해서 실행되는 경우라면 의 의미 \n",
    "\n",
    "         - 여기서 방법3의 경우에 파이썬 인터프리터가 최초로 파일을 읽을 경우 __name__이라는 변수를 __main__으로 셋팅한다\n",
    "         - 인터프리터란 컴파일 없이 코드를 바로 실행할 수 있는 언어 , 코드를 적은 후 실행파일을 만들 필요 없이 바로 실행 가능 \n",
    "         - 인터프리터에 의해서 직접 실행될 경우에만 실행하도록 하고 싶은 코드 블럭이 있는 경우에 사용\n",
    "\n",
    "출처: https://pinocc.tistory.com/175 [땅뚱 창고]"
   ]
  },
  {
   "cell_type": "code",
   "execution_count": 1,
   "metadata": {},
   "outputs": [
    {
     "data": {
      "text/plain": [
       "(8.0, 3.141592653589793, 10)"
      ]
     },
     "execution_count": 1,
     "metadata": {},
     "output_type": "execute_result"
    }
   ],
   "source": [
    "import math\n",
    "math.pow(2,3), math.pi, math.trunc(10.9)"
   ]
  },
  {
   "cell_type": "code",
   "execution_count": 2,
   "metadata": {},
   "outputs": [
    {
     "data": {
      "text/plain": [
       "8.0"
      ]
     },
     "execution_count": 2,
     "metadata": {},
     "output_type": "execute_result"
    }
   ],
   "source": [
    "from math import pow # pow 함수를 math.pow 로 표현하지 않으려고 from import 사용 \n",
    "pow(2,3)"
   ]
  },
  {
   "cell_type": "code",
   "execution_count": 3,
   "metadata": {},
   "outputs": [
    {
     "data": {
      "text/plain": [
       "10.0"
      ]
     },
     "execution_count": 3,
     "metadata": {},
     "output_type": "execute_result"
    }
   ],
   "source": [
    "import math\n",
    "math.log2(1024)"
   ]
  },
  {
   "cell_type": "code",
   "execution_count": 4,
   "metadata": {},
   "outputs": [
    {
     "data": {
      "text/plain": [
       "10.0"
      ]
     },
     "execution_count": 4,
     "metadata": {},
     "output_type": "execute_result"
    }
   ],
   "source": [
    "from math import *\n",
    "log2(1024)"
   ]
  },
  {
   "cell_type": "code",
   "execution_count": 5,
   "metadata": {},
   "outputs": [
    {
     "data": {
      "text/plain": [
       "(8.0, 10.0)"
      ]
     },
     "execution_count": 5,
     "metadata": {},
     "output_type": "execute_result"
    }
   ],
   "source": [
    "import math as mt\n",
    "mt.pow(2,3), mt.log2(1024)"
   ]
  },
  {
   "cell_type": "markdown",
   "metadata": {},
   "source": [
    "# 모듈생성 & 재사용하기 "
   ]
  },
  {
   "cell_type": "code",
   "execution_count": 6,
   "metadata": {},
   "outputs": [],
   "source": [
    "# calc 라는 파일은 연산에 필요한 함수들을 모아놓은 연산 모듈이다 \n",
    "\n",
    "data = 100\n",
    "\n",
    "def add_all(a,b,c):\n",
    "    total = a+b+c\n",
    "    return total\n",
    "\n",
    "def multiply_all(a,b,c):\n",
    "    total = a*b*c\n",
    "    return total"
   ]
  },
  {
   "cell_type": "code",
   "execution_count": 7,
   "metadata": {},
   "outputs": [
    {
     "name": "stdout",
     "output_type": "stream",
     "text": [
      "C:\\Users\\jeeyeon\\Desktop\\텍마\n"
     ]
    }
   ],
   "source": [
    "import os\n",
    "\n",
    "print(os.getcwd()) # 내 현재 파일 경로\n",
    "# os.chdir(r \"C:\\Users\\jeeyeon\\Desktop\\temp\")  # 파일 경로를 변경하는 방법\n",
    "# print(os.getcwd())   # 파일 경로 확인한 다음 다시 확인 "
   ]
  },
  {
   "cell_type": "code",
   "execution_count": 8,
   "metadata": {},
   "outputs": [
    {
     "name": "stdout",
     "output_type": "stream",
     "text": [
      "35 1000\n",
      "data : 100\n"
     ]
    }
   ],
   "source": [
    "# 방법1 \n",
    "import calc\n",
    "x = 10; y=20; z =5\n",
    "\n",
    "ans1 = calc.add_all(x,y,z)\n",
    "ans2 = calc.multiply_all(x,y,z)\n",
    "\n",
    "print(ans1, ans2)\n",
    "print(\"data :\", calc.data)   # 오잉 이건 왜 calc 모듈이 data 가 100이 들어가있지 앞에서 data = 100 "
   ]
  },
  {
   "cell_type": "code",
   "execution_count": 9,
   "metadata": {},
   "outputs": [
    {
     "name": "stdout",
     "output_type": "stream",
     "text": [
      "35 1000\n",
      "data : 100\n"
     ]
    }
   ],
   "source": [
    "# 방법3 \n",
    "from calc import *\n",
    "x = 10; y=20; z =5\n",
    "\n",
    "ans1 = add_all(x,y,z)\n",
    "ans2 = multiply_all(x,y,z)\n",
    "\n",
    "print(ans1, ans2)\n",
    "print(\"data :\", data)"
   ]
  },
  {
   "cell_type": "code",
   "execution_count": 10,
   "metadata": {},
   "outputs": [],
   "source": [
    "## 앞에 내용은 이지선 교수님 강의로 공부하기 "
   ]
  },
  {
   "cell_type": "markdown",
   "metadata": {},
   "source": [
    "# 파일 입출력 "
   ]
  },
  {
   "cell_type": "code",
   "execution_count": 11,
   "metadata": {},
   "outputs": [
    {
     "name": "stdout",
     "output_type": "stream",
     "text": [
      "C:\\Users\\jeeyeon\\Desktop\\텍마\n"
     ]
    }
   ],
   "source": [
    "import os\n",
    "print(os.getcwd()) # 현재 파일 경로 확인하기 \n",
    "# os.chdir(r \"C:\\Users\\jeeyeon\\Desktop\\temp\") # 현재 파일의 경로를 변경함\n",
    "# os.getcwd()\n",
    "# print(os.getcwd())"
   ]
  },
  {
   "cell_type": "markdown",
   "metadata": {},
   "source": [
    "- 텍스트파일 불러와서 읽기는 open 함수 안에 'r' 이용하는데 read의 의미 "
   ]
  },
  {
   "cell_type": "code",
   "execution_count": 12,
   "metadata": {},
   "outputs": [
    {
     "name": "stdout",
     "output_type": "stream",
     "text": [
      "<_io.TextIOWrapper name='ref.txt' mode='r' encoding='cp949'>\n"
     ]
    }
   ],
   "source": [
    "f = open('ref.txt', 'r')  # file open - read mode \n",
    "print(f) "
   ]
  },
  {
   "cell_type": "code",
   "execution_count": 13,
   "metadata": {},
   "outputs": [
    {
     "name": "stdout",
     "output_type": "stream",
     "text": [
      "파이썬과 자연어 처리 파이썬과 함께하는 NLP 애플리케이션 만들기\n",
      "파이썬 자연어 처리의 이론과 실제\n",
      "파이썬을 이용한 웹 크롤링과 스크레이핑\n"
     ]
    }
   ],
   "source": [
    "f = open('ref.txt', 'r')  # file open - read mode \n",
    "\n",
    "readfile = f.read()\n",
    "print(readfile)  # 두번 실행시키면 두번째 실행에서는 나타나지 않음"
   ]
  },
  {
   "cell_type": "code",
   "execution_count": 14,
   "metadata": {},
   "outputs": [
    {
     "name": "stdout",
     "output_type": "stream",
     "text": [
      "파이썬과\n",
      "---------------\n",
      " 자연어 처리 파이썬과 함께하는 NLP 애플리케이션 만들기\n",
      "\n"
     ]
    }
   ],
   "source": [
    "f = open('ref.txt', 'r')  # file open - read mode \n",
    "\n",
    "# 요렇게 두 개를 한 셀에 써주면 앞에서 불러온거 제외하고 뒤부터 읽어옴 \n",
    "a = f.read(4)       # read(4) : 앞에 4 개만 가져옴 \n",
    "print(a)\n",
    "\n",
    "print(\"---------------\")\n",
    "\n",
    "a1 = f.readline()   # readline() : 한줄씩 불러옴\n",
    "print(a1)"
   ]
  },
  {
   "cell_type": "code",
   "execution_count": 15,
   "metadata": {},
   "outputs": [
    {
     "name": "stdout",
     "output_type": "stream",
     "text": [
      "파이썬과 자연어 처리 파이썬과 함께하는 NLP 애플리케이션 만들기\n",
      "\n"
     ]
    }
   ],
   "source": [
    "f = open('ref.txt', 'r')  # file open - read mode \n",
    "\n",
    "# 그치만 다시 써주면 앞 한 줄을 불러옴 \n",
    "a1 = f.readline()   # 한줄씩 불러옴\n",
    "print(a1)"
   ]
  },
  {
   "cell_type": "code",
   "execution_count": 16,
   "metadata": {},
   "outputs": [
    {
     "name": "stdout",
     "output_type": "stream",
     "text": [
      "['파이썬과 자연어 처리 파이썬과 함께하는 NLP 애플리케이션 만들기\\n', '파이썬 자연어 처리의 이론과 실제\\n', '파이썬을 이용한 웹 크롤링과 스크레이핑']\n"
     ]
    }
   ],
   "source": [
    "f = open('ref.txt', 'r')  # file open - read mode \n",
    "\n",
    "a2 = f.readlines() # 여러줄 불러옴\n",
    "print(a2)\n",
    "f.close()          # 파일을 열었으면 닫아줘야 돼 "
   ]
  },
  {
   "cell_type": "code",
   "execution_count": 17,
   "metadata": {},
   "outputs": [
    {
     "name": "stdout",
     "output_type": "stream",
     "text": [
      "파이썬과 자연어 처리 파이썬과 함께하는 NLP 애플리케이션 만들기\n",
      "\n",
      "파이썬 자연어 처리의 이론과 실제\n",
      "\n",
      "파이썬을 이용한 웹 크롤링과 스크레이핑\n"
     ]
    }
   ],
   "source": [
    "f = open('ref.txt', 'r')\n",
    "\n",
    "for line in f:\n",
    "    print(line)\n",
    "    \n",
    "f.close()          # 파일을 열었으면 닫아줘야 돼 "
   ]
  },
  {
   "cell_type": "markdown",
   "metadata": {},
   "source": [
    "- 앞에서 살펴보았듯이 파일을 열었으면 file.close() 이용해서 파일을 닫아줘야 한다\n",
    "- 하지만 아래처럼 with 를 이용하면 닫아주지 않아도 된다 \n",
    "- 즉 with 블록은 자동으로 블록 종료할 때 __exit__() 메소드 호출해서 파일 닫아줌\n",
    "\n",
    "\n",
    "\n",
    "\n",
    "- 아래는 score 이라는 빈 리스트 값에 number.txt 파일을 읽어서 f라는 이름으로 저장한다음에 하나씩 읽어간다 "
   ]
  },
  {
   "cell_type": "code",
   "execution_count": 18,
   "metadata": {},
   "outputs": [
    {
     "name": "stdout",
     "output_type": "stream",
     "text": [
      "100\n",
      "\n",
      "80\n",
      "\n",
      "20\n",
      "\n",
      "60\n",
      "\n",
      "80\n",
      "\n",
      "[]\n"
     ]
    }
   ],
   "source": [
    "# line 만 하나씩 출력하고싶을 때 \n",
    "\n",
    "score = []\n",
    "with open('number.txt', 'r') as f:    # 읽기모드로 할 것이다 \n",
    "    for line in f:\n",
    "        print(line)\n",
    "        #score.append(line)            # score 변수에 line 을 추가하고 싶다\n",
    "        #score.append(int(line))      # 줄바꿈 \\n 표시 삭제하기 위해서\n",
    "print(score) "
   ]
  },
  {
   "cell_type": "code",
   "execution_count": 19,
   "metadata": {},
   "outputs": [
    {
     "name": "stdout",
     "output_type": "stream",
     "text": [
      "['100\\n', '80\\n', '20\\n', '60\\n', '80\\n']\n"
     ]
    }
   ],
   "source": [
    "# 줄바꿈까지 포함해서 list 가 append 됨 \n",
    "\n",
    "score = []\n",
    "with open('number.txt', 'r') as f:    # 읽기모드로 할 것이다 \n",
    "    for line in f:\n",
    "        #print(line)\n",
    "        score.append(line)            # score 변수에 line 을 추가하고 싶다\n",
    "        #score.append(int(line))      # 줄바꿈 \\n 표시 삭제하기 위해서\n",
    "print(score)"
   ]
  },
  {
   "cell_type": "code",
   "execution_count": 20,
   "metadata": {},
   "outputs": [
    {
     "name": "stdout",
     "output_type": "stream",
     "text": [
      "[100, 80, 20, 60, 80]\n"
     ]
    }
   ],
   "source": [
    "# int 함수 써서 바꿔줬기 때문에 숫자만 포함된 리스트 출력됨\n",
    "\n",
    "score = []\n",
    "with open('number.txt', 'r') as f:    # 읽기모드로 할 것이다 \n",
    "    for line in f:\n",
    "        #print(line)\n",
    "        #score.append(line)            # score 변수에 line 을 추가하고 싶다\n",
    "        score.append(int(line))      # 줄바꿈 \\n 표시 삭제하기 위해서\n",
    "print(score) "
   ]
  },
  {
   "cell_type": "markdown",
   "metadata": {},
   "source": [
    "### 아래는 class라는 텍스트파일 읽어서 f 에 저장한다음에 D라는 빈 딕셔너리에 파일값을 읽어서 값 채워줌"
   ]
  },
  {
   "cell_type": "markdown",
   "metadata": {},
   "source": [
    "- 1단계 :class.txt 파일을 한줄한줄 읽어서 출력해보기"
   ]
  },
  {
   "cell_type": "code",
   "execution_count": 21,
   "metadata": {},
   "outputs": [
    {
     "name": "stdout",
     "output_type": "stream",
     "text": [
      "A 텍스트 분석\n",
      "\n",
      "B 텍스트 전처리 수집 \n",
      "\n",
      "C 형태소 분석 전처리 \n",
      "\n",
      "D 파이썬\n"
     ]
    }
   ],
   "source": [
    "# line 하나하나 읽은 모양 보기 \n",
    "\n",
    "D = {} # Dictionary 정의 \n",
    "f = open(\"class.txt\", \"r\")\n",
    "\n",
    "for line in f: \n",
    "    print(line)  \n",
    "    items = line.split()    # line 을 하나씩 split 한다 \n",
    "    #print(items)\n",
    "    \n",
    "    key, values = items[0], items[1:]\n",
    "    #print(key,values)\n",
    "    \n",
    "    D[key] = values  # list 형식에서는 a.append 로 만들어줌 \n",
    "    \n",
    "#print(D)"
   ]
  },
  {
   "cell_type": "markdown",
   "metadata": {},
   "source": [
    "- 2단계 : split함수 사용하면 각각의 원소를 다 잘라줌 근데 위에서 총 4개 줄이였고 각각의 줄은 하나의 리스트로 들어감 "
   ]
  },
  {
   "cell_type": "code",
   "execution_count": 52,
   "metadata": {},
   "outputs": [
    {
     "name": "stdout",
     "output_type": "stream",
     "text": [
      "['A', '텍스트', '분석']\n",
      "['B', '텍스트', '전처리', '수집']\n",
      "['C', '형태소', '분석', '전처리']\n",
      "['D', '파이썬']\n"
     ]
    }
   ],
   "source": [
    "# line 을 split 한 items 모양 보기 \n",
    "\n",
    "D = {} # Dictionary 정의 \n",
    "f = open(\"class.txt\", \"r\")\n",
    "\n",
    "for line in f:\n",
    "    #print(line)\n",
    "    items = line.split()    # line 을 하나씩 split 한다 \n",
    "    print(items)\n",
    "    \n",
    "    key, values = items[0], items[1:]\n",
    "    #print(key,values)\n",
    "    \n",
    "    D[key] = values  # list 형식에서는 a.append 로 만들어줌 \n",
    "    \n",
    "#print(D)"
   ]
  },
  {
   "cell_type": "markdown",
   "metadata": {},
   "source": [
    "- 3단계 : 위처럼 split 해 놓은 것을 각각의 리스트의 첫번째 원소를 key, values 로 다루고 싶을 때 "
   ]
  },
  {
   "cell_type": "code",
   "execution_count": 53,
   "metadata": {},
   "outputs": [
    {
     "name": "stdout",
     "output_type": "stream",
     "text": [
      "A ['텍스트', '분석']\n",
      "B ['텍스트', '전처리', '수집']\n",
      "C ['형태소', '분석', '전처리']\n",
      "D ['파이썬']\n"
     ]
    }
   ],
   "source": [
    "# line 을 split 한 items 를 key 와 value 로 구분하기\n",
    "\n",
    "D = {} # Dictionary 정의 \n",
    "f = open(\"class.txt\", \"r\")\n",
    "\n",
    "for line in f:\n",
    "    #print(line)\n",
    "    items = line.split()    # line 을 하나씩 split 한다 \n",
    "    #print(items)\n",
    "    \n",
    "    key, values = items[0], items[1:]\n",
    "    print(key,values)\n",
    "    \n",
    "    D[key] = values  # list 형식에서는 a.append 로 만들어줌 \n",
    "    \n",
    "#print(D)"
   ]
  },
  {
   "cell_type": "markdown",
   "metadata": {},
   "source": [
    "- 4단계 : 빈 딕셔너리였던 D에 key,values를 지정해주고 원소를 추가해나간다 "
   ]
  },
  {
   "cell_type": "code",
   "execution_count": 56,
   "metadata": {},
   "outputs": [
    {
     "name": "stdout",
     "output_type": "stream",
     "text": [
      "{'A': ['텍스트', '분석'], 'B': ['텍스트', '전처리', '수집'], 'C': ['형태소', '분석', '전처리'], 'D': ['파이썬']}\n"
     ]
    }
   ],
   "source": [
    "# 최종 생성된 D 살펴보기 \n",
    "\n",
    "D = {} # Dictionary 정의 \n",
    "f = open(\"class.txt\", \"r\")\n",
    "\n",
    "for line in f:\n",
    "    #print(line)\n",
    "    items = line.split()    # line 을 하나씩 split 한다 \n",
    "    #print(items)\n",
    "    \n",
    "    key, values = items[0], items[1:]\n",
    "    #print(key,values)\n",
    "    \n",
    "    D[key] = values  # list 형식에서는 a.append 로 만들어줌 \n",
    "    \n",
    "print(D)"
   ]
  },
  {
   "cell_type": "markdown",
   "metadata": {},
   "source": [
    "### 파일 생성하기 "
   ]
  },
  {
   "cell_type": "code",
   "execution_count": 57,
   "metadata": {},
   "outputs": [
    {
     "data": {
      "text/plain": [
       "<function TextIOWrapper.close()>"
      ]
     },
     "execution_count": 57,
     "metadata": {},
     "output_type": "execute_result"
    }
   ],
   "source": [
    "# 새로운 파일 생성해서 그 파일안에 글을 써줄 수 있음 \n",
    "f = open('subject.txt', 'w')\n",
    "f.write(\"hello world\")\n",
    "f.write(\"python programming\")\n",
    "f.write(\"good bye\")\n",
    "f.close"
   ]
  },
  {
   "cell_type": "code",
   "execution_count": 58,
   "metadata": {},
   "outputs": [],
   "source": [
    "# 새로운 파일 생성해서 그 파일안에 글을 써줄 수 있음 \n",
    "# \\n 해주면 줄바꿈 가능함 \n",
    "f = open(\"subject1.txt\", \"w\") \n",
    "f.write('hello world \\n') \n",
    "f.write('python programming \\n') \n",
    "f.write('good bye \\n')  \n",
    "f.close()"
   ]
  },
  {
   "cell_type": "code",
   "execution_count": null,
   "metadata": {},
   "outputs": [],
   "source": []
  }
 ],
 "metadata": {
  "kernelspec": {
   "display_name": "Python [default]",
   "language": "python",
   "name": "python3"
  },
  "language_info": {
   "codemirror_mode": {
    "name": "ipython",
    "version": 3
   },
   "file_extension": ".py",
   "mimetype": "text/x-python",
   "name": "python",
   "nbconvert_exporter": "python",
   "pygments_lexer": "ipython3",
   "version": "3.6.5"
  }
 },
 "nbformat": 4,
 "nbformat_minor": 2
}
