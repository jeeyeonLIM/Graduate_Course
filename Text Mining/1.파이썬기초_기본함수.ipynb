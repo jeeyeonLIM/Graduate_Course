{
 "cells": [
  {
   "cell_type": "markdown",
   "metadata": {},
   "source": [
    "### LW2 정리"
   ]
  },
  {
   "cell_type": "code",
   "execution_count": 1,
   "metadata": {},
   "outputs": [
    {
     "name": "stdout",
     "output_type": "stream",
     "text": [
      "Hello, text mining\n"
     ]
    }
   ],
   "source": [
    "print(\"Hello, text mining\")"
   ]
  },
  {
   "cell_type": "markdown",
   "metadata": {},
   "source": [
    "## 파이썬 자료형"
   ]
  },
  {
   "cell_type": "code",
   "execution_count": 7,
   "metadata": {},
   "outputs": [
    {
     "name": "stdout",
     "output_type": "stream",
     "text": [
      "23\n",
      "True\n"
     ]
    },
    {
     "data": {
      "text/plain": [
       "bool"
      ]
     },
     "execution_count": 7,
     "metadata": {},
     "output_type": "execute_result"
    }
   ],
   "source": [
    "score = 23\n",
    "print(score)\n",
    "type(score) # 정수형 아닌가 (?) "
   ]
  },
  {
   "cell_type": "code",
   "execution_count": 3,
   "metadata": {},
   "outputs": [
    {
     "name": "stdout",
     "output_type": "stream",
     "text": [
      "True\n"
     ]
    },
    {
     "data": {
      "text/plain": [
       "bool"
      ]
     },
     "execution_count": 3,
     "metadata": {},
     "output_type": "execute_result"
    }
   ],
   "source": [
    "x = 1\n",
    "y = x > 0\n",
    "\n",
    "print(y)\n",
    "type(y) # bool 유형"
   ]
  },
  {
   "cell_type": "code",
   "execution_count": 4,
   "metadata": {},
   "outputs": [
    {
     "name": "stdout",
     "output_type": "stream",
     "text": [
      "1.5\n"
     ]
    },
    {
     "data": {
      "text/plain": [
       "float"
      ]
     },
     "execution_count": 4,
     "metadata": {},
     "output_type": "execute_result"
    }
   ],
   "source": [
    "data = 1.5\n",
    "\n",
    "print(data)\n",
    "type(data) # 실수형"
   ]
  },
  {
   "cell_type": "code",
   "execution_count": 6,
   "metadata": {},
   "outputs": [
    {
     "name": "stdout",
     "output_type": "stream",
     "text": [
      "Alice\n"
     ]
    },
    {
     "data": {
      "text/plain": [
       "str"
      ]
     },
     "execution_count": 6,
     "metadata": {},
     "output_type": "execute_result"
    }
   ],
   "source": [
    "name = \"Alice\"\n",
    "\n",
    "print(name)\n",
    "type(name) # 문자형"
   ]
  },
  {
   "cell_type": "code",
   "execution_count": 8,
   "metadata": {},
   "outputs": [
    {
     "name": "stdout",
     "output_type": "stream",
     "text": [
      "[80, 90, 85, 93, 78]\n"
     ]
    },
    {
     "data": {
      "text/plain": [
       "list"
      ]
     },
     "execution_count": 8,
     "metadata": {},
     "output_type": "execute_result"
    }
   ],
   "source": [
    "scores = [80,90,85,93,78]\n",
    "\n",
    "print(scores)\n",
    "type(scores) # list 형"
   ]
  },
  {
   "cell_type": "code",
   "execution_count": 9,
   "metadata": {},
   "outputs": [
    {
     "name": "stdout",
     "output_type": "stream",
     "text": [
      "(3, 6, 5, 9)\n"
     ]
    },
    {
     "data": {
      "text/plain": [
       "tuple"
      ]
     },
     "execution_count": 9,
     "metadata": {},
     "output_type": "execute_result"
    }
   ],
   "source": [
    "data = (3,6,5,9)\n",
    "\n",
    "print(data)\n",
    "type(data) # 튜플형"
   ]
  },
  {
   "cell_type": "code",
   "execution_count": 10,
   "metadata": {},
   "outputs": [
    {
     "name": "stdout",
     "output_type": "stream",
     "text": [
      "{3, 5, 7, 17, 19}\n"
     ]
    },
    {
     "data": {
      "text/plain": [
       "set"
      ]
     },
     "execution_count": 10,
     "metadata": {},
     "output_type": "execute_result"
    }
   ],
   "source": [
    "primes = {7,17,3,5,7,19}\n",
    "\n",
    "print(primes)\n",
    "type(primes) #set 형"
   ]
  },
  {
   "cell_type": "code",
   "execution_count": 11,
   "metadata": {},
   "outputs": [
    {
     "name": "stdout",
     "output_type": "stream",
     "text": [
      "{1: 35, 2: 32, 3: 30, 4: 33}\n"
     ]
    },
    {
     "data": {
      "text/plain": [
       "dict"
      ]
     },
     "execution_count": 11,
     "metadata": {},
     "output_type": "execute_result"
    }
   ],
   "source": [
    "count = {1:35, 2:32, 3:30, 4:33}\n",
    "\n",
    "print(count)\n",
    "type(count)"
   ]
  },
  {
   "cell_type": "markdown",
   "metadata": {},
   "source": [
    "## input() 함수"
   ]
  },
  {
   "cell_type": "code",
   "execution_count": 12,
   "metadata": {},
   "outputs": [
    {
     "name": "stdout",
     "output_type": "stream",
     "text": [
      "Enter one integer : 7\n"
     ]
    },
    {
     "data": {
      "text/plain": [
       "str"
      ]
     },
     "execution_count": 12,
     "metadata": {},
     "output_type": "execute_result"
    }
   ],
   "source": [
    "x = input(\"Enter one integer : \")\n",
    "\n",
    "type(x)"
   ]
  },
  {
   "cell_type": "code",
   "execution_count": 13,
   "metadata": {},
   "outputs": [
    {
     "name": "stdout",
     "output_type": "stream",
     "text": [
      "Enter one integer : 7\n"
     ]
    },
    {
     "data": {
      "text/plain": [
       "int"
      ]
     },
     "execution_count": 13,
     "metadata": {},
     "output_type": "execute_result"
    }
   ],
   "source": [
    "x = int(input(\"Enter one integer : \"))\n",
    "\n",
    "type(x)"
   ]
  },
  {
   "cell_type": "markdown",
   "metadata": {},
   "source": [
    "## 입출력문 "
   ]
  },
  {
   "cell_type": "code",
   "execution_count": 14,
   "metadata": {},
   "outputs": [
    {
     "name": "stdout",
     "output_type": "stream",
     "text": [
      "hello world\n"
     ]
    }
   ],
   "source": [
    "print(\"hello world\")"
   ]
  },
  {
   "cell_type": "code",
   "execution_count": 15,
   "metadata": {},
   "outputs": [
    {
     "name": "stdout",
     "output_type": "stream",
     "text": [
      "hello world\n"
     ]
    }
   ],
   "source": [
    "print('hello \\\n",
    "world')"
   ]
  },
  {
   "cell_type": "code",
   "execution_count": 19,
   "metadata": {},
   "outputs": [
    {
     "name": "stdout",
     "output_type": "stream",
     "text": [
      "*\n",
      "hello \n",
      "world \n",
      "*\n"
     ]
    }
   ],
   "source": [
    "print(\"*\\nhello \\nworld \\n*\") # \\n : 줄바꿈 "
   ]
  },
  {
   "cell_type": "code",
   "execution_count": 20,
   "metadata": {},
   "outputs": [
    {
     "name": "stdout",
     "output_type": "stream",
     "text": [
      "*\thello*\tworld \t*\n"
     ]
    }
   ],
   "source": [
    "print(\"*\\thello*\\tworld \\t*\")"
   ]
  },
  {
   "cell_type": "markdown",
   "metadata": {},
   "source": [
    "## 조건문"
   ]
  },
  {
   "cell_type": "code",
   "execution_count": 21,
   "metadata": {},
   "outputs": [
    {
     "name": "stdout",
     "output_type": "stream",
     "text": [
      "성적을 입력하시오 :89\n",
      "축하합니다.\n",
      "수고하셨습니다\n"
     ]
    }
   ],
   "source": [
    "score = int(input(\"성적을 입력하시오 :\"))\n",
    "\n",
    "if score >= 70 : \n",
    "    print(\"축하합니다.\")\n",
    "print(\"수고하셨습니다\")"
   ]
  },
  {
   "cell_type": "code",
   "execution_count": 22,
   "metadata": {},
   "outputs": [
    {
     "name": "stdout",
     "output_type": "stream",
     "text": [
      "성적을입력하시오: 89\n",
      "당신의 학점은 B 입니다\n"
     ]
    }
   ],
   "source": [
    "score = int(input(\"성적을입력하시오: \"))\n",
    "\n",
    "if score >= 90 :\n",
    "    grade = \"A\"\n",
    "elif 80 <= score <90 :\n",
    "    grade = \"B\"\n",
    "elif 70 <= score <80:\n",
    "    grade = \"C\"\n",
    "else : grade = \"D\"\n",
    "    \n",
    "print(\"당신의 학점은\", grade, \"입니다\")"
   ]
  },
  {
   "cell_type": "code",
   "execution_count": 23,
   "metadata": {},
   "outputs": [
    {
     "name": "stdout",
     "output_type": "stream",
     "text": [
      "성적을입력하시오 : 89\n",
      "통과하셨습니다.\n",
      "B 장학금 지급 대상자입니다.\n",
      "수고하셨습니다.\n"
     ]
    }
   ],
   "source": [
    "score = int(input(\"성적을입력하시오 : \"))\n",
    "\n",
    "if score >= 70 :\n",
    "    print(\"통과하셨습니다.\")\n",
    "    if score >= 90 :\n",
    "        print(\"A 장학금 지급 대상자입니다.\")\n",
    "    elif score >= 80 :\n",
    "        print(\"B 장학금 지급 대상자입니다.\")\n",
    "elif score >= 60 :\n",
    "    print(\"조건부 통과자입니다.\")\n",
    "else : print(\"재수강 대상자입니다.\")\n",
    "    \n",
    "print(\"수고하셨습니다.\")"
   ]
  },
  {
   "cell_type": "markdown",
   "metadata": {},
   "source": [
    "## While 반복문"
   ]
  },
  {
   "cell_type": "code",
   "execution_count": 24,
   "metadata": {},
   "outputs": [
    {
     "name": "stdout",
     "output_type": "stream",
     "text": [
      "sum :  55\n"
     ]
    }
   ],
   "source": [
    "a = 1 \n",
    "sum = 0\n",
    "\n",
    "while a <= 10:\n",
    "    sum += a     # a = 0 ~10 까지 더하기 \n",
    "    a += 1\n",
    "    \n",
    "print(\"sum : \", sum)"
   ]
  },
  {
   "cell_type": "code",
   "execution_count": 25,
   "metadata": {},
   "outputs": [
    {
     "name": "stdout",
     "output_type": "stream",
     "text": [
      "sum : 30\n"
     ]
    }
   ],
   "source": [
    "a = 1\n",
    "sum = 0\n",
    "\n",
    "while a <= 10:\n",
    "    if a % 2 ==0 : # a = 0 ~10 까지 짝수에 대해서만 더하기 \n",
    "        sum += a\n",
    "    a += 1\n",
    "    \n",
    "print(\"sum :\", sum )"
   ]
  },
  {
   "cell_type": "code",
   "execution_count": 26,
   "metadata": {},
   "outputs": [
    {
     "name": "stdout",
     "output_type": "stream",
     "text": [
      "정수를 입력하시오 :3\n",
      "정수를 입력하시오 :6\n",
      "정수를 입력하시오 :3\n",
      "정수를 입력하시오 :2\n",
      "\n",
      "가장큰값 :  6\n"
     ]
    }
   ],
   "source": [
    "n = int(input(\"정수를 입력하시오 :\"))\n",
    "max = n\n",
    "loop_count = 1\n",
    "\n",
    "#  3번을 입력받아서 max값 찾아줌 \n",
    "while loop_count <= 3 :\n",
    "    n = int(input(\"정수를 입력하시오 :\"))\n",
    "    if n > max :\n",
    "        max = n\n",
    "    loop_count += 1\n",
    "print()\n",
    "\n",
    "\n",
    "print(\"가장큰값 : \", max)"
   ]
  },
  {
   "cell_type": "markdown",
   "metadata": {},
   "source": [
    "## range() 함수"
   ]
  },
  {
   "cell_type": "code",
   "execution_count": 27,
   "metadata": {},
   "outputs": [
    {
     "data": {
      "text/plain": [
       "[0, 1, 2, 3, 4]"
      ]
     },
     "execution_count": 27,
     "metadata": {},
     "output_type": "execute_result"
    }
   ],
   "source": [
    "list(range(5))"
   ]
  },
  {
   "cell_type": "code",
   "execution_count": 28,
   "metadata": {},
   "outputs": [
    {
     "data": {
      "text/plain": [
       "[5, 6, 7, 8, 9]"
      ]
     },
     "execution_count": 28,
     "metadata": {},
     "output_type": "execute_result"
    }
   ],
   "source": [
    "list(range(5,10))"
   ]
  },
  {
   "cell_type": "code",
   "execution_count": 29,
   "metadata": {},
   "outputs": [
    {
     "data": {
      "text/plain": [
       "[10, 8, 6, 4, 2]"
      ]
     },
     "execution_count": 29,
     "metadata": {},
     "output_type": "execute_result"
    }
   ],
   "source": [
    "list(range(10,1,-2))"
   ]
  },
  {
   "cell_type": "markdown",
   "metadata": {},
   "source": [
    "## for 반복문"
   ]
  },
  {
   "cell_type": "code",
   "execution_count": 30,
   "metadata": {},
   "outputs": [
    {
     "name": "stdout",
     "output_type": "stream",
     "text": [
      "0\n",
      "1\n",
      "2\n",
      "3\n",
      "4\n"
     ]
    }
   ],
   "source": [
    "for x in range(5):\n",
    "    print(x)"
   ]
  },
  {
   "cell_type": "code",
   "execution_count": 31,
   "metadata": {},
   "outputs": [
    {
     "name": "stdout",
     "output_type": "stream",
     "text": [
      "2\n",
      "4\n",
      "6\n",
      "8\n",
      "10\n"
     ]
    }
   ],
   "source": [
    "for data in range(1,10,2):\n",
    "    print(data + 1)"
   ]
  },
  {
   "cell_type": "code",
   "execution_count": 36,
   "metadata": {},
   "outputs": [
    {
     "name": "stdout",
     "output_type": "stream",
     "text": [
      "S\n",
      "O\n",
      "G\n",
      "A\n",
      "N\n",
      "G\n",
      "---------------------\n",
      "G\n"
     ]
    }
   ],
   "source": [
    "for alpha in \"sogang\":\n",
    "    y = alpha.upper() # alpha.upper 이것만 써주면 안됨!!! \n",
    "    print(y)\n",
    "\n",
    "print(\"---------------------\")\n",
    "    \n",
    "for alpha in \"sogang\":\n",
    "    y = alpha.upper()\n",
    "print(y)"
   ]
  },
  {
   "cell_type": "markdown",
   "metadata": {},
   "source": [
    "## 사전형 자료와 for 반복문 "
   ]
  },
  {
   "cell_type": "code",
   "execution_count": 39,
   "metadata": {},
   "outputs": [
    {
     "name": "stdout",
     "output_type": "stream",
     "text": [
      "4 90\n",
      "2 80\n",
      "1 95\n",
      "5 88\n",
      "3 92\n",
      "---------------------\n",
      "4\n",
      "2\n",
      "1\n",
      "5\n",
      "3\n",
      "---------------------\n",
      "90\n",
      "80\n",
      "95\n",
      "88\n",
      "92\n"
     ]
    }
   ],
   "source": [
    "score = {4:90, 2:80, 1:95, 5:88, 3:92}\n",
    "\n",
    "for x,y in score.items():\n",
    "    print(x,y)\n",
    "    \n",
    "print(\"---------------------\")\n",
    "\n",
    "for x in score.keys():\n",
    "    print(x)\n",
    "    \n",
    "print(\"---------------------\")\n",
    "    \n",
    "for x in score.values():\n",
    "    print(x)"
   ]
  },
  {
   "cell_type": "markdown",
   "metadata": {},
   "source": [
    "## 예시코드"
   ]
  },
  {
   "cell_type": "code",
   "execution_count": 43,
   "metadata": {},
   "outputs": [
    {
     "name": "stdout",
     "output_type": "stream",
     "text": [
      "총합 :  386\n",
      "평균 :  77.2\n"
     ]
    }
   ],
   "source": [
    "A = [10, 60, 30, 56, 90, 77, 89, 40, 70]\n",
    "\n",
    "total = 0\n",
    "n = 0\n",
    "\n",
    "while A :\n",
    "    score = A.pop()\n",
    "    if score >= 60: \n",
    "        n += 1\n",
    "        total += score\n",
    "        \n",
    "avg = total / n \n",
    "print(\"총합 : \", total)\n",
    "print(\"평균 : \", avg)\n"
   ]
  },
  {
   "cell_type": "code",
   "execution_count": 45,
   "metadata": {},
   "outputs": [
    {
     "name": "stdout",
     "output_type": "stream",
     "text": [
      "10 20 30 40 50 60 70 80 90 100 "
     ]
    }
   ],
   "source": [
    "for x in range(10,101,10):\n",
    "    print(x, end = \" \")"
   ]
  },
  {
   "cell_type": "code",
   "execution_count": 57,
   "metadata": {},
   "outputs": [
    {
     "name": "stdout",
     "output_type": "stream",
     "text": [
      "10 8 6 4 2 "
     ]
    }
   ],
   "source": [
    "for x in range(10,0,-2):\n",
    "    print(x, end = \" \")"
   ]
  },
  {
   "cell_type": "code",
   "execution_count": 1,
   "metadata": {},
   "outputs": [
    {
     "name": "stdout",
     "output_type": "stream",
     "text": [
      "입력한 성적들 : [90, 80, 100, 60, 70]\n",
      "최고성적 : 100\n",
      "최저성적 : 60\n",
      "평균: 80.00\n"
     ]
    }
   ],
   "source": [
    "grade = { 'A':90, 'B':80, 'C':100, 'D':60, \"E\":70 }\n",
    "score = []\n",
    "\n",
    "for g in grade.values():\n",
    "    score.append(g)\n",
    "    \n",
    "print(\"입력한 성적들 :\", score)\n",
    "print(\"최고성적 :\", max(score)) \n",
    "print(\"최저성적 :\", min(score))\n",
    "average = sum(score) / len(score)\n",
    "\n",
    "print('평균: %.2f' % average)"
   ]
  },
  {
   "cell_type": "code",
   "execution_count": 65,
   "metadata": {},
   "outputs": [
    {
     "name": "stdout",
     "output_type": "stream",
     "text": [
      "1 번 학생 합격입니다. 축하합니다. \n",
      "2 번 학생 불합격입니다. 재시험을 보세요. \n",
      "3 번 학생 합격입니다. 축하합니다. \n",
      "4 번 학생 불합격입니다. 재시험을 보세요. \n",
      "5 번 학생 합격입니다. 축하합니다. \n"
     ]
    }
   ],
   "source": [
    "scores = [90, 60, 78, 55, 86]\n",
    "number = 0 \n",
    "\n",
    "for score in scores : \n",
    "    number += 1 \n",
    "    if score >= 70 :\n",
    "        print(\"%d 번 학생 합격입니다. 축하합니다. \" %number)\n",
    "    else:\n",
    "        print(\"%d 번 학생 불합격입니다. 재시험을 보세요. \" % number)"
   ]
  },
  {
   "cell_type": "markdown",
   "metadata": {},
   "source": [
    "# [ 기초 파이썬 ] 복습 2차 "
   ]
  },
  {
   "cell_type": "markdown",
   "metadata": {},
   "source": [
    "# 사용자 정의 함수 "
   ]
  },
  {
   "cell_type": "markdown",
   "metadata": {},
   "source": [
    "- find_max 함수를 인수 a,b값을 넣어주면 그 중 큰 값을 찾아주는 사용자함수로 정의한다. "
   ]
  },
  {
   "cell_type": "code",
   "execution_count": 2,
   "metadata": {},
   "outputs": [
    {
     "name": "stdout",
     "output_type": "stream",
     "text": [
      "20 7\n"
     ]
    }
   ],
   "source": [
    "def find_max (a,b): # a,b는 매개변수 \n",
    "    if a > b:\n",
    "        y = a \n",
    "    else :\n",
    "        y = b\n",
    "    return y \n",
    "\n",
    "# main\n",
    "m = find_max(10,20) \n",
    "n = find_max(7,3)\n",
    "\n",
    "print(m,n)"
   ]
  },
  {
   "cell_type": "markdown",
   "metadata": {},
   "source": [
    "# 함수의 인수값과 반환 값 "
   ]
  },
  {
   "cell_type": "markdown",
   "metadata": {},
   "source": [
    "- 인수 3개를 넣어주면 평균을 찾아주는 사용자함수를 만들어보자 "
   ]
  },
  {
   "cell_type": "code",
   "execution_count": 5,
   "metadata": {},
   "outputs": [
    {
     "name": "stdout",
     "output_type": "stream",
     "text": [
      "국어 성적을 입력하시오 :102\n",
      "영어 성적을 입력하시오 :20\n",
      "수학 성적을 입력하시오 :30\n",
      "평균 :  50\n"
     ]
    }
   ],
   "source": [
    "def calculate(kor, eng, math):\n",
    "    total = kor + eng + math\n",
    "    average = total / 3\n",
    "    return int(average) # 마지막은 정수로 출력 \n",
    "\n",
    "# main\n",
    "\n",
    "# input함수 : 값을 입력받을 수 있음 \n",
    "kor_score = int(input(\"국어 성적을 입력하시오 :\"))\n",
    "eng_score = int(input(\"영어 성적을 입력하시오 :\"))\n",
    "math_score = int(input(\"수학 성적을 입력하시오 :\"))\n",
    "\n",
    "avg = calculate(kor_score, eng_score, math_score)\n",
    "\n",
    "print(\"평균 : \", avg )"
   ]
  },
  {
   "cell_type": "code",
   "execution_count": 6,
   "metadata": {},
   "outputs": [
    {
     "name": "stdout",
     "output_type": "stream",
     "text": [
      "국어성적을입력하시오: 10\n",
      "영어성적을입력하시오: 20\n",
      "수학성적을입력하시오: 30\n",
      "평균: 20\n"
     ]
    }
   ],
   "source": [
    "# 위와 같은 함수인데 새로운 변수를 calculate 사용자정의함수의 인수랑 같은 이름 사용해도 된다\n",
    "\n",
    "def calculate(kor, eng, math): \n",
    "    total = kor+ eng+ math \n",
    "    average = total / 3\n",
    "    \n",
    "    return int(average)\n",
    "\n",
    "# main \n",
    "\n",
    "kor= int(input('국어성적을입력하시오: ')) \n",
    "eng= int(input('영어성적을입력하시오: ')) \n",
    "math= int(input('수학성적을입력하시오: '))\n",
    "\n",
    "avg= calculate(kor, eng, math) \n",
    "\n",
    "print('평균:', avg)\n"
   ]
  },
  {
   "cell_type": "markdown",
   "metadata": {},
   "source": [
    "# 반환값이 여러개인 경우 "
   ]
  },
  {
   "cell_type": "markdown",
   "metadata": {},
   "source": [
    "- add-multiply 함수를 이용해서 두 인자의 합과 곱을 함께 출력해주려면 아래와 같이 return var1, var2 사용"
   ]
  },
  {
   "cell_type": "code",
   "execution_count": 10,
   "metadata": {},
   "outputs": [
    {
     "name": "stdout",
     "output_type": "stream",
     "text": [
      "Enter a : 30\n",
      "Enter b : 20\n",
      "-------------------------\n",
      "50 600\n"
     ]
    }
   ],
   "source": [
    "def add_multiply(x,y): \n",
    "    sum = x + y \n",
    "    mult= x * y \n",
    "    return sum, mult # 튜플로 반환함\n",
    "# main \n",
    "a = int(input('Enter a : ')) \n",
    "b = int(input('Enter b : ')) \n",
    "print(\"-------------------------\")\n",
    "\n",
    "m,n= add_multiply(a,b) \n",
    "print(m,n)"
   ]
  },
  {
   "cell_type": "code",
   "execution_count": 12,
   "metadata": {},
   "outputs": [
    {
     "name": "stdout",
     "output_type": "stream",
     "text": [
      "Enter a :20\n",
      "Enter b :30\n",
      "-------------------------\n",
      "[50, 600]\n"
     ]
    }
   ],
   "source": [
    "# 위와 같은 건데 여기서는 list 형태로 반환하기 위해서 빈 리스트 만들어준 후 for 문 이용해서 append 함\n",
    "\n",
    "def add_multiply(x,y):\n",
    "    sum = x + y\n",
    "    mult = x * y\n",
    "    return sum, mult # 튜플로 반환함\n",
    "#main \n",
    "a = int(input(\"Enter a :\"))\n",
    "b = int(input(\"Enter b :\"))\n",
    "print(\"-------------------------\")\n",
    "\n",
    "y = []\n",
    "for x in add_multiply(a,b):\n",
    "#    print(x)\n",
    "    y.append(x)\n",
    "print(y)"
   ]
  },
  {
   "cell_type": "markdown",
   "metadata": {},
   "source": [
    "## 함수의 위치"
   ]
  },
  {
   "cell_type": "markdown",
   "metadata": {},
   "source": [
    "- def 함수명() : 인자 지정 안해줄 수 있음"
   ]
  },
  {
   "cell_type": "code",
   "execution_count": 17,
   "metadata": {},
   "outputs": [
    {
     "name": "stdout",
     "output_type": "stream",
     "text": [
      "before test definition\n",
      "----start------\n",
      "I am test\n",
      "10 20\n",
      "=====end=======\n"
     ]
    }
   ],
   "source": [
    "print('before test definition')\n",
    "a = 10\n",
    "b = 20\n",
    "\n",
    "def test():\n",
    "    print(\"I am test\")\n",
    "    print(a,b)\n",
    "\n",
    "# main\n",
    "print(\"----start------\")\n",
    "test()\n",
    "print(\"=====end=======\")"
   ]
  },
  {
   "cell_type": "markdown",
   "metadata": {},
   "source": [
    "- def 함수명(*변수명) : 함수인자 수를 모를 때 * 사용"
   ]
  },
  {
   "cell_type": "code",
   "execution_count": 21,
   "metadata": {},
   "outputs": [
    {
     "name": "stdout",
     "output_type": "stream",
     "text": [
      "Alice\n",
      "Paul\n",
      "---------------\n",
      "Cindy\n",
      "Sally\n",
      "David\n",
      "Tom\n"
     ]
    }
   ],
   "source": [
    "def friends(*name): # 입력하는 숫자 갯수를 모를 때 * 사용함, 튜플로 출력됨 \n",
    "    for n in name:\n",
    "        print(n.title())\n",
    "        \n",
    "# main\n",
    "friends('alice', 'paul')\n",
    "print(\"---------------\")\n",
    "friends('cindy', 'sally', 'david', 'tom')"
   ]
  },
  {
   "cell_type": "code",
   "execution_count": 28,
   "metadata": {},
   "outputs": [
    {
     "name": "stdout",
     "output_type": "stream",
     "text": [
      "This program is being run by itself\n"
     ]
    }
   ],
   "source": [
    "# 위에서 매운 내용을 예제파일을 이용해 이해해보자 \n",
    "\n",
    "if __name__ == '__main__':\n",
    "    print('This program is being run by itself')\n",
    "else:\n",
    "    print('I am being imported from another module')\n",
    "    \n",
    "# 즉 모든 파이썬 모듈은 __name__ 이 정의되어 있고 이것이 \"__main__\" 이라면 모듈이 사용자에 의해 독립실행된다는 것을 의미함 "
   ]
  },
  {
   "cell_type": "code",
   "execution_count": 30,
   "metadata": {},
   "outputs": [
    {
     "name": "stdout",
     "output_type": "stream",
     "text": [
      "20 7\n"
     ]
    }
   ],
   "source": [
    "def find_max (a,b): \n",
    "    if a > b : return a \n",
    "    else: return b\n",
    "    \n",
    "if __name__ == \"__main__\":\n",
    "    x = find_max(10, 20) \n",
    "    y = find_max(7,3) \n",
    "    print(x,y)\n",
    "    "
   ]
  },
  {
   "cell_type": "code",
   "execution_count": 31,
   "metadata": {},
   "outputs": [
    {
     "name": "stdout",
     "output_type": "stream",
     "text": [
      "20 7\n"
     ]
    }
   ],
   "source": [
    "def find_max (a,b): \n",
    "    if a > b : \n",
    "        return a \n",
    "    else: \n",
    "        return b\n",
    " \n",
    "# main \n",
    "x = find_max(10, 20) \n",
    "y = find_max(7,3) \n",
    "print(x,y)"
   ]
  },
  {
   "cell_type": "code",
   "execution_count": 36,
   "metadata": {},
   "outputs": [
    {
     "name": "stdout",
     "output_type": "stream",
     "text": [
      "{'Alice': 10, 'Paul': 12}\n",
      "-----------------------------\n",
      "{'Cindy': 5, 'David': 7, 'Tom': 10}\n"
     ]
    }
   ],
   "source": [
    "def name_age(**lists): # ** 갯수 제한 없는 딕셔너리로 출력됨 \n",
    "    print(lists)\n",
    "    \n",
    "#main\n",
    "name_age(Alice = 10, Paul = 12)\n",
    "print('-----------------------------') \n",
    "name_age(Cindy=5, David=7, Tom=10)\n"
   ]
  },
  {
   "cell_type": "code",
   "execution_count": 41,
   "metadata": {},
   "outputs": [
    {
     "name": "stdout",
     "output_type": "stream",
     "text": [
      "몫 : 3, 나머지 : 1\n",
      "------------------\n",
      "몫 : 3, 나머지 : 1\n"
     ]
    }
   ],
   "source": [
    "def get_q_r(a,b):\n",
    "    return a//b, a%b\n",
    "\n",
    "x = 10\n",
    "y = 3\n",
    "\n",
    "# main\n",
    "quotient, remainder = get_q_r(x,y)\n",
    "print(\"몫 : {0}, 나머지 : {1}\" .format(quotient, remainder))\n",
    "print(\"------------------\")\n",
    "\n",
    "# 위 방법을 if __name__ == \"__main__\" 안에 넣어준 것 \n",
    "if __name__ == \"__main__\":\n",
    "    quotient, remainder = get_q_r(x,y)\n",
    "    print(\"몫 : {0}, 나머지 : {1}\" .format(quotient, remainder))"
   ]
  },
  {
   "cell_type": "code",
   "execution_count": 45,
   "metadata": {},
   "outputs": [
    {
     "name": "stdout",
     "output_type": "stream",
     "text": [
      "(50, 40, 70, 90, 100)\n",
      "점수가 60점 이상인 학생 수는 3명이고, 그들의 점수 총은 260점이다. \n",
      "총합계 260:, 학생수 3\n"
     ]
    }
   ],
   "source": [
    "def score(*scores):\n",
    "    i=0\n",
    "    total=0\n",
    "    print(scores)\n",
    "    \n",
    "    for score in scores: # for문 이용해서 total, i 값 늘려줌 \n",
    "        if score > 60:   # score 60 이상인 학생들 수, 총점 알기 위해 for 문 반복 \n",
    "            total += score\n",
    "            i+=1\n",
    "    return total, i\n",
    "\n",
    "#main \n",
    "total, students = score(50, 40, 70, 90, 100)\n",
    "print('점수가 60점 이상인 학생 수는 {1}명이고, 그들의 점수 총은 {0}점이다. '.format(total, students))\n",
    "print('총합계 {0}:, 학생수 {1}'.format(total, students))"
   ]
  },
  {
   "cell_type": "code",
   "execution_count": null,
   "metadata": {},
   "outputs": [],
   "source": []
  }
 ],
 "metadata": {
  "kernelspec": {
   "display_name": "Python [default]",
   "language": "python",
   "name": "python3"
  },
  "language_info": {
   "codemirror_mode": {
    "name": "ipython",
    "version": 3
   },
   "file_extension": ".py",
   "mimetype": "text/x-python",
   "name": "python",
   "nbconvert_exporter": "python",
   "pygments_lexer": "ipython3",
   "version": "3.6.5"
  }
 },
 "nbformat": 4,
 "nbformat_minor": 2
}
