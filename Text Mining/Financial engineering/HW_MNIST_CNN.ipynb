{
 "cells": [
  {
   "cell_type": "code",
   "execution_count": 2,
   "metadata": {},
   "outputs": [
    {
     "name": "stderr",
     "output_type": "stream",
     "text": [
      "C:\\Users\\jeeyeon\\Anaconda3\\lib\\site-packages\\h5py\\__init__.py:36: FutureWarning: Conversion of the second argument of issubdtype from `float` to `np.floating` is deprecated. In future, it will be treated as `np.float64 == np.dtype(float).type`.\n",
      "  from ._conv import register_converters as _register_converters\n"
     ]
    },
    {
     "name": "stdout",
     "output_type": "stream",
     "text": [
      "WARNING:tensorflow:From <ipython-input-2-e9e9bf0324de>:14: read_data_sets (from tensorflow.contrib.learn.python.learn.datasets.mnist) is deprecated and will be removed in a future version.\n",
      "Instructions for updating:\n",
      "Please use alternatives such as official/mnist/dataset.py from tensorflow/models.\n",
      "WARNING:tensorflow:From C:\\Users\\jeeyeon\\Anaconda3\\lib\\site-packages\\tensorflow\\contrib\\learn\\python\\learn\\datasets\\mnist.py:260: maybe_download (from tensorflow.contrib.learn.python.learn.datasets.base) is deprecated and will be removed in a future version.\n",
      "Instructions for updating:\n",
      "Please write your own downloading logic.\n",
      "WARNING:tensorflow:From C:\\Users\\jeeyeon\\Anaconda3\\lib\\site-packages\\tensorflow\\contrib\\learn\\python\\learn\\datasets\\mnist.py:262: extract_images (from tensorflow.contrib.learn.python.learn.datasets.mnist) is deprecated and will be removed in a future version.\n",
      "Instructions for updating:\n",
      "Please use tf.data to implement this functionality.\n",
      "Extracting MNIST_data/train-images-idx3-ubyte.gz\n",
      "WARNING:tensorflow:From C:\\Users\\jeeyeon\\Anaconda3\\lib\\site-packages\\tensorflow\\contrib\\learn\\python\\learn\\datasets\\mnist.py:267: extract_labels (from tensorflow.contrib.learn.python.learn.datasets.mnist) is deprecated and will be removed in a future version.\n",
      "Instructions for updating:\n",
      "Please use tf.data to implement this functionality.\n",
      "Extracting MNIST_data/train-labels-idx1-ubyte.gz\n",
      "WARNING:tensorflow:From C:\\Users\\jeeyeon\\Anaconda3\\lib\\site-packages\\tensorflow\\contrib\\learn\\python\\learn\\datasets\\mnist.py:110: dense_to_one_hot (from tensorflow.contrib.learn.python.learn.datasets.mnist) is deprecated and will be removed in a future version.\n",
      "Instructions for updating:\n",
      "Please use tf.one_hot on tensors.\n",
      "Extracting MNIST_data/t10k-images-idx3-ubyte.gz\n",
      "Extracting MNIST_data/t10k-labels-idx1-ubyte.gz\n",
      "WARNING:tensorflow:From C:\\Users\\jeeyeon\\Anaconda3\\lib\\site-packages\\tensorflow\\contrib\\learn\\python\\learn\\datasets\\mnist.py:290: DataSet.__init__ (from tensorflow.contrib.learn.python.learn.datasets.mnist) is deprecated and will be removed in a future version.\n",
      "Instructions for updating:\n",
      "Please use alternatives such as official/mnist/dataset.py from tensorflow/models.\n"
     ]
    }
   ],
   "source": [
    "import matplotlib.pyplot as plt\n",
    "import numpy as np\n",
    "import tensorflow as tf\n",
    "\n",
    "from __future__ import division\n",
    "from __future__ import print_function\n",
    "from __future__ import absolute_import\n",
    "\n",
    "from sklearn.utils import shuffle\n",
    "\n",
    "\n",
    "# 데이터 다운로드 \n",
    "from tensorflow.examples.tutorials.mnist import input_data\n",
    "mnist = input_data.read_data_sets(\"MNIST_data/\", one_hot=True)"
   ]
  },
  {
   "cell_type": "code",
   "execution_count": 3,
   "metadata": {},
   "outputs": [],
   "source": [
    "train_xdata = np.array([np.reshape(x, (28,28,1)) for x in mnist.train.images])  # (H, W, C)\n",
    "test_xdata = np.array([np.reshape(x, (28,28,1)) for x in mnist.test.images])    # (H, W, C)\n",
    "\n",
    "train_labels = mnist.train.labels\n",
    "test_labels = mnist.test.labels"
   ]
  },
  {
   "cell_type": "code",
   "execution_count": 4,
   "metadata": {},
   "outputs": [
    {
     "data": {
      "text/plain": [
       "((55000, 28, 28, 1), (55000, 10), (10000, 28, 28, 1), (10000, 10))"
      ]
     },
     "execution_count": 4,
     "metadata": {},
     "output_type": "execute_result"
    }
   ],
   "source": [
    "train_xdata.shape, train_labels.shape, test_xdata.shape, test_labels.shape"
   ]
  },
  {
   "cell_type": "code",
   "execution_count": 5,
   "metadata": {},
   "outputs": [],
   "source": [
    "\n",
    "I_D = tf.placeholder(tf.float32,[None ,28,28,1])   # [N, W, H, C]\n",
    "Y = tf.placeholder(tf.float32, [None, 10])         # [N, output class]\n",
    "\n",
    "C_W1 = tf.Variable(tf.truncated_normal([4, 4, 1, 32]))  # [FW1, FH1, C1, FN1]\n",
    "C_W2 = tf.Variable(tf.truncated_normal([4, 4, 32,64])) # [FW2, FH2, C2, FN2]\n",
    "\n"
   ]
  },
  {
   "cell_type": "code",
   "execution_count": 6,
   "metadata": {},
   "outputs": [
    {
     "data": {
      "text/plain": [
       "(TensorShape([Dimension(None), Dimension(14), Dimension(14), Dimension(32)]),\n",
       " TensorShape([Dimension(None), Dimension(7), Dimension(7), Dimension(64)]))"
      ]
     },
     "execution_count": 6,
     "metadata": {},
     "output_type": "execute_result"
    }
   ],
   "source": [
    "#Convolution1\n",
    "conv1 = tf.nn.conv2d(I_D, C_W1, strides = [1,1,1,1], padding = \"SAME\")   # stride = [1,*,*,1] 에서 * : 이동할 filter step의미함\n",
    "bias1 = tf.Variable(tf.zeros([1,1,1,32]))                                # FN : filter 수만큼 bias 생성해줌 \n",
    "relu1 = tf.nn.relu( conv1 + bias1 )                                      # relu ( conv1 + bias1 ) \n",
    "max_pool1 = tf.nn.max_pool(relu1, ksize = [1,2,2,1], strides = [1,2,2,1], padding =\"SAME\")  # ksize  : filtersize\n",
    "\n",
    "#Convolution2\n",
    "conv2 = tf.nn.conv2d(max_pool1, C_W2, strides = [1,1,1,1], padding = \"SAME\")\n",
    "bias2 = tf.Variable(tf.zeros([1,1,1,64]))\n",
    "relu2 = tf.nn.relu(conv2 + bias2)\n",
    "max_pool2 = tf.nn.max_pool(relu2, ksize = [1,2,2,1], strides = [1,2,2,1], padding =\"SAME\") \n",
    "\n",
    "max_pool1.shape, max_pool2.shape"
   ]
  },
  {
   "cell_type": "code",
   "execution_count": 7,
   "metadata": {},
   "outputs": [
    {
     "name": "stdout",
     "output_type": "stream",
     "text": [
      "3136\n",
      "(?, 3136)\n"
     ]
    }
   ],
   "source": [
    "final_conv_shape = max_pool2.shape\n",
    "final_shape = int(final_conv_shape[1]* final_conv_shape[2] * final_conv_shape[3])  # int 안해주면 인식안돼 ㅠㅠ\n",
    "\n",
    "flat_output = tf.reshape(max_pool2, [-1, final_shape])\n",
    "# flat_output = tf.reshape(max_pool2, [None, final_shape])  # 왜 None 으로 하면 안돼 ? ㅠㅠ \n",
    "\n",
    "print(final_shape)\n",
    "print(flat_output.shape)"
   ]
  },
  {
   "cell_type": "code",
   "execution_count": 8,
   "metadata": {},
   "outputs": [],
   "source": [
    "n_hidden = 128\n",
    "\n",
    "\n",
    "# Affine layer 1\n",
    "# 만들고자 하는 형태는 z1 = x * W1 + b1 -> return : z1=relu(z1)\n",
    "W1 = tf.Variable(tf.truncated_normal([final_shape, n_hidden], mean = 0, stddev = tf.sqrt(2/final_shape) )) #variable이니까 initializing 해야한다.\n",
    "b1 = tf.Variable(tf.zeros([1, n_hidden]))  # 1부분이 broad casting 됨\n",
    "z1 = tf.nn.relu(tf.matmul(flat_output,W1) + b1)\n",
    "\n",
    "\n",
    "# Affine layer 2\n",
    "W2 = tf.Variable(tf.truncated_normal([n_hidden, 10], stddev = tf.sqrt(2/n_hidden)))  \n",
    "b2 = tf.Variable(tf.zeros([1, 10]))    \n",
    "z2 = tf.nn.softmax(tf.matmul(z1,W2) + b2)\n",
    "\n",
    "y = z2\n",
    "\n"
   ]
  },
  {
   "cell_type": "code",
   "execution_count": 9,
   "metadata": {},
   "outputs": [],
   "source": [
    "cross_entropy = tf.reduce_mean(-tf.reduce_sum(Y * tf.log(y), axis = 1))\n",
    "train_step = tf.train.AdagradOptimizer(0.05).minimize(cross_entropy)\n",
    "\n",
    "correct_prediction = tf.equal(tf.argmax(y, 1), tf.argmax(Y, 1))\n",
    "accuracy = tf.reduce_mean(tf.cast(correct_prediction, tf.float32))\n",
    "\n"
   ]
  },
  {
   "cell_type": "code",
   "execution_count": null,
   "metadata": {},
   "outputs": [],
   "source": [
    "N = 55000\n",
    "batch_size = 128 \n",
    "n_batches = N // batch_size   # 몇번 할건지!!!!! \n",
    "\n",
    "# 작성하기 전에 작이제까지 작성한 변수들을 초기화해야함!\n",
    "init = tf.global_variables_initializer()\n",
    "sess = tf.Session()\n",
    "sess.run(init)\n",
    "\n",
    "\n",
    "for epoch in range(10): \n",
    "    X_, Y_ = shuffle(train_xdata, train_labels)\n",
    "    \n",
    "    #j = sess.run(accuracy, feed_dict = { I_D: train_xdata, Y: train_labels })\n",
    "    #print(epoch, j)\n",
    "    \n",
    "    for i in range(n_batches):  # 한 데이터당 15번해줘야하니까 \n",
    "        start = i * batch_size\n",
    "        end = start + batch_size  # end가 300번보다 많으면 error발생함  # 이렇게해도 300넘지않음\n",
    "        \n",
    "        sess.run(train_step, feed_dict = {I_D : X_[start:end, :], Y : Y_[start:end, :]})\n",
    "    "
   ]
  },
  {
   "cell_type": "code",
   "execution_count": null,
   "metadata": {},
   "outputs": [],
   "source": [
    "# 모델 평가하기\n",
    "\n",
    "my_prediction = tf.cast( tf.argmax(y,1), tf.float32 )    \n",
    "\n",
    "correct_prediction = tf.equal( tf.argmax(y,1), tf.argmax(Y,1) )  # argmax 몇번째인지 찾아줌\n",
    "    # tf.argmax(y,1) : 우리 모델이 생각하기에 가장 적합하다고 판단한 라벨\n",
    "    # tf.argmax(Y,1) : 실제라벨\n",
    "\n",
    "    # tf.equal 을 통해 우리 예측이 맞았는지 확인가능\n",
    "    # 부울값으로 이루어진 리스트 얻게 됨 \n",
    "\n",
    "    # 부동소수점으로 변환후 평균 계산함\n",
    "    # ex. [T,F,T,T] 는 [1,0,1,1] 이 되며 이 평균을 계산하면 0.75가 됨!\n",
    "    \n",
    "accuracy = tf.reduce_mean(tf.cast(correct_prediction, tf.float32))   \n",
    "\n",
    "    # correct_prediction 값을 float32 형식으로 변환함\n",
    "\n",
    "print(sess.run(accuracy, feed_dict={x: mnist.test.images, Y: mnist.test.labels}))\n"
   ]
  },
  {
   "cell_type": "code",
   "execution_count": null,
   "metadata": {},
   "outputs": [],
   "source": []
  }
 ],
 "metadata": {
  "kernelspec": {
   "display_name": "Python [default]",
   "language": "python",
   "name": "python3"
  },
  "language_info": {
   "codemirror_mode": {
    "name": "ipython",
    "version": 3
   },
   "file_extension": ".py",
   "mimetype": "text/x-python",
   "name": "python",
   "nbconvert_exporter": "python",
   "pygments_lexer": "ipython3",
   "version": "3.6.5"
  }
 },
 "nbformat": 4,
 "nbformat_minor": 2
}
